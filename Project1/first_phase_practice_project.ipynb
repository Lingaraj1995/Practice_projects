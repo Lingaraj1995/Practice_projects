{
 "cells": [
  {
   "cell_type": "code",
   "execution_count": 1,
   "id": "4e28588c",
   "metadata": {},
   "outputs": [],
   "source": [
    "import numpy as np\n",
    "import pandas as pd\n",
    "import matplotlib.pyplot as plt\n",
    "import seaborn as sns\n",
    "import warnings\n",
    "warnings.filterwarnings('ignore')\n",
    "import sklearn\n"
   ]
  },
  {
   "cell_type": "code",
   "execution_count": 2,
   "id": "e9254623",
   "metadata": {},
   "outputs": [],
   "source": [
    "from sklearn.linear_model import LinearRegression,LogisticRegression,Ridge,Lasso,ElasticNet\n",
    "from sklearn.model_selection import cross_val_score,train_test_split\n",
    "from sklearn.metrics import r2_score,mean_absolute_error,mean_squared_error\n"
   ]
  },
  {
   "cell_type": "code",
   "execution_count": 3,
   "id": "5ec4491f",
   "metadata": {},
   "outputs": [
    {
     "data": {
      "text/html": [
       "<div>\n",
       "<style scoped>\n",
       "    .dataframe tbody tr th:only-of-type {\n",
       "        vertical-align: middle;\n",
       "    }\n",
       "\n",
       "    .dataframe tbody tr th {\n",
       "        vertical-align: top;\n",
       "    }\n",
       "\n",
       "    .dataframe thead th {\n",
       "        text-align: right;\n",
       "    }\n",
       "</style>\n",
       "<table border=\"1\" class=\"dataframe\">\n",
       "  <thead>\n",
       "    <tr style=\"text-align: right;\">\n",
       "      <th></th>\n",
       "      <th>age</th>\n",
       "      <th>sex</th>\n",
       "      <th>bmi</th>\n",
       "      <th>children</th>\n",
       "      <th>smoker</th>\n",
       "      <th>region</th>\n",
       "      <th>charges</th>\n",
       "    </tr>\n",
       "  </thead>\n",
       "  <tbody>\n",
       "    <tr>\n",
       "      <th>0</th>\n",
       "      <td>19</td>\n",
       "      <td>female</td>\n",
       "      <td>27.900</td>\n",
       "      <td>0</td>\n",
       "      <td>yes</td>\n",
       "      <td>southwest</td>\n",
       "      <td>16884.92400</td>\n",
       "    </tr>\n",
       "    <tr>\n",
       "      <th>1</th>\n",
       "      <td>18</td>\n",
       "      <td>male</td>\n",
       "      <td>33.770</td>\n",
       "      <td>1</td>\n",
       "      <td>no</td>\n",
       "      <td>southeast</td>\n",
       "      <td>1725.55230</td>\n",
       "    </tr>\n",
       "    <tr>\n",
       "      <th>2</th>\n",
       "      <td>28</td>\n",
       "      <td>male</td>\n",
       "      <td>33.000</td>\n",
       "      <td>3</td>\n",
       "      <td>no</td>\n",
       "      <td>southeast</td>\n",
       "      <td>4449.46200</td>\n",
       "    </tr>\n",
       "    <tr>\n",
       "      <th>3</th>\n",
       "      <td>33</td>\n",
       "      <td>male</td>\n",
       "      <td>22.705</td>\n",
       "      <td>0</td>\n",
       "      <td>no</td>\n",
       "      <td>northwest</td>\n",
       "      <td>21984.47061</td>\n",
       "    </tr>\n",
       "    <tr>\n",
       "      <th>4</th>\n",
       "      <td>32</td>\n",
       "      <td>male</td>\n",
       "      <td>28.880</td>\n",
       "      <td>0</td>\n",
       "      <td>no</td>\n",
       "      <td>northwest</td>\n",
       "      <td>3866.85520</td>\n",
       "    </tr>\n",
       "    <tr>\n",
       "      <th>...</th>\n",
       "      <td>...</td>\n",
       "      <td>...</td>\n",
       "      <td>...</td>\n",
       "      <td>...</td>\n",
       "      <td>...</td>\n",
       "      <td>...</td>\n",
       "      <td>...</td>\n",
       "    </tr>\n",
       "    <tr>\n",
       "      <th>1333</th>\n",
       "      <td>50</td>\n",
       "      <td>male</td>\n",
       "      <td>30.970</td>\n",
       "      <td>3</td>\n",
       "      <td>no</td>\n",
       "      <td>northwest</td>\n",
       "      <td>10600.54830</td>\n",
       "    </tr>\n",
       "    <tr>\n",
       "      <th>1334</th>\n",
       "      <td>18</td>\n",
       "      <td>female</td>\n",
       "      <td>31.920</td>\n",
       "      <td>0</td>\n",
       "      <td>no</td>\n",
       "      <td>northeast</td>\n",
       "      <td>2205.98080</td>\n",
       "    </tr>\n",
       "    <tr>\n",
       "      <th>1335</th>\n",
       "      <td>18</td>\n",
       "      <td>female</td>\n",
       "      <td>36.850</td>\n",
       "      <td>0</td>\n",
       "      <td>no</td>\n",
       "      <td>southeast</td>\n",
       "      <td>1629.83350</td>\n",
       "    </tr>\n",
       "    <tr>\n",
       "      <th>1336</th>\n",
       "      <td>21</td>\n",
       "      <td>female</td>\n",
       "      <td>25.800</td>\n",
       "      <td>0</td>\n",
       "      <td>no</td>\n",
       "      <td>southwest</td>\n",
       "      <td>2007.94500</td>\n",
       "    </tr>\n",
       "    <tr>\n",
       "      <th>1337</th>\n",
       "      <td>61</td>\n",
       "      <td>female</td>\n",
       "      <td>29.070</td>\n",
       "      <td>0</td>\n",
       "      <td>yes</td>\n",
       "      <td>northwest</td>\n",
       "      <td>29141.36030</td>\n",
       "    </tr>\n",
       "  </tbody>\n",
       "</table>\n",
       "<p>1338 rows × 7 columns</p>\n",
       "</div>"
      ],
      "text/plain": [
       "      age     sex     bmi  children smoker     region      charges\n",
       "0      19  female  27.900         0    yes  southwest  16884.92400\n",
       "1      18    male  33.770         1     no  southeast   1725.55230\n",
       "2      28    male  33.000         3     no  southeast   4449.46200\n",
       "3      33    male  22.705         0     no  northwest  21984.47061\n",
       "4      32    male  28.880         0     no  northwest   3866.85520\n",
       "...   ...     ...     ...       ...    ...        ...          ...\n",
       "1333   50    male  30.970         3     no  northwest  10600.54830\n",
       "1334   18  female  31.920         0     no  northeast   2205.98080\n",
       "1335   18  female  36.850         0     no  southeast   1629.83350\n",
       "1336   21  female  25.800         0     no  southwest   2007.94500\n",
       "1337   61  female  29.070         0    yes  northwest  29141.36030\n",
       "\n",
       "[1338 rows x 7 columns]"
      ]
     },
     "execution_count": 3,
     "metadata": {},
     "output_type": "execute_result"
    }
   ],
   "source": [
    "ds=pd.read_csv('medical_cost_insurance.csv')\n",
    "ds"
   ]
  },
  {
   "cell_type": "code",
   "execution_count": 4,
   "id": "6fa4719e",
   "metadata": {},
   "outputs": [],
   "source": [
    "df=pd.DataFrame(ds)"
   ]
  },
  {
   "cell_type": "code",
   "execution_count": null,
   "id": "0521b2e7",
   "metadata": {},
   "outputs": [],
   "source": []
  },
  {
   "cell_type": "code",
   "execution_count": 5,
   "id": "12f1bb28",
   "metadata": {},
   "outputs": [
    {
     "data": {
      "text/html": [
       "<div>\n",
       "<style scoped>\n",
       "    .dataframe tbody tr th:only-of-type {\n",
       "        vertical-align: middle;\n",
       "    }\n",
       "\n",
       "    .dataframe tbody tr th {\n",
       "        vertical-align: top;\n",
       "    }\n",
       "\n",
       "    .dataframe thead th {\n",
       "        text-align: right;\n",
       "    }\n",
       "</style>\n",
       "<table border=\"1\" class=\"dataframe\">\n",
       "  <thead>\n",
       "    <tr style=\"text-align: right;\">\n",
       "      <th></th>\n",
       "      <th>age</th>\n",
       "      <th>sex</th>\n",
       "      <th>bmi</th>\n",
       "      <th>children</th>\n",
       "      <th>smoker</th>\n",
       "      <th>region</th>\n",
       "      <th>charges</th>\n",
       "    </tr>\n",
       "  </thead>\n",
       "  <tbody>\n",
       "    <tr>\n",
       "      <th>0</th>\n",
       "      <td>19</td>\n",
       "      <td>female</td>\n",
       "      <td>27.900</td>\n",
       "      <td>0</td>\n",
       "      <td>yes</td>\n",
       "      <td>southwest</td>\n",
       "      <td>16884.92400</td>\n",
       "    </tr>\n",
       "    <tr>\n",
       "      <th>1</th>\n",
       "      <td>18</td>\n",
       "      <td>male</td>\n",
       "      <td>33.770</td>\n",
       "      <td>1</td>\n",
       "      <td>no</td>\n",
       "      <td>southeast</td>\n",
       "      <td>1725.55230</td>\n",
       "    </tr>\n",
       "    <tr>\n",
       "      <th>2</th>\n",
       "      <td>28</td>\n",
       "      <td>male</td>\n",
       "      <td>33.000</td>\n",
       "      <td>3</td>\n",
       "      <td>no</td>\n",
       "      <td>southeast</td>\n",
       "      <td>4449.46200</td>\n",
       "    </tr>\n",
       "    <tr>\n",
       "      <th>3</th>\n",
       "      <td>33</td>\n",
       "      <td>male</td>\n",
       "      <td>22.705</td>\n",
       "      <td>0</td>\n",
       "      <td>no</td>\n",
       "      <td>northwest</td>\n",
       "      <td>21984.47061</td>\n",
       "    </tr>\n",
       "    <tr>\n",
       "      <th>4</th>\n",
       "      <td>32</td>\n",
       "      <td>male</td>\n",
       "      <td>28.880</td>\n",
       "      <td>0</td>\n",
       "      <td>no</td>\n",
       "      <td>northwest</td>\n",
       "      <td>3866.85520</td>\n",
       "    </tr>\n",
       "    <tr>\n",
       "      <th>...</th>\n",
       "      <td>...</td>\n",
       "      <td>...</td>\n",
       "      <td>...</td>\n",
       "      <td>...</td>\n",
       "      <td>...</td>\n",
       "      <td>...</td>\n",
       "      <td>...</td>\n",
       "    </tr>\n",
       "    <tr>\n",
       "      <th>1333</th>\n",
       "      <td>50</td>\n",
       "      <td>male</td>\n",
       "      <td>30.970</td>\n",
       "      <td>3</td>\n",
       "      <td>no</td>\n",
       "      <td>northwest</td>\n",
       "      <td>10600.54830</td>\n",
       "    </tr>\n",
       "    <tr>\n",
       "      <th>1334</th>\n",
       "      <td>18</td>\n",
       "      <td>female</td>\n",
       "      <td>31.920</td>\n",
       "      <td>0</td>\n",
       "      <td>no</td>\n",
       "      <td>northeast</td>\n",
       "      <td>2205.98080</td>\n",
       "    </tr>\n",
       "    <tr>\n",
       "      <th>1335</th>\n",
       "      <td>18</td>\n",
       "      <td>female</td>\n",
       "      <td>36.850</td>\n",
       "      <td>0</td>\n",
       "      <td>no</td>\n",
       "      <td>southeast</td>\n",
       "      <td>1629.83350</td>\n",
       "    </tr>\n",
       "    <tr>\n",
       "      <th>1336</th>\n",
       "      <td>21</td>\n",
       "      <td>female</td>\n",
       "      <td>25.800</td>\n",
       "      <td>0</td>\n",
       "      <td>no</td>\n",
       "      <td>southwest</td>\n",
       "      <td>2007.94500</td>\n",
       "    </tr>\n",
       "    <tr>\n",
       "      <th>1337</th>\n",
       "      <td>61</td>\n",
       "      <td>female</td>\n",
       "      <td>29.070</td>\n",
       "      <td>0</td>\n",
       "      <td>yes</td>\n",
       "      <td>northwest</td>\n",
       "      <td>29141.36030</td>\n",
       "    </tr>\n",
       "  </tbody>\n",
       "</table>\n",
       "<p>1338 rows × 7 columns</p>\n",
       "</div>"
      ],
      "text/plain": [
       "      age     sex     bmi  children smoker     region      charges\n",
       "0      19  female  27.900         0    yes  southwest  16884.92400\n",
       "1      18    male  33.770         1     no  southeast   1725.55230\n",
       "2      28    male  33.000         3     no  southeast   4449.46200\n",
       "3      33    male  22.705         0     no  northwest  21984.47061\n",
       "4      32    male  28.880         0     no  northwest   3866.85520\n",
       "...   ...     ...     ...       ...    ...        ...          ...\n",
       "1333   50    male  30.970         3     no  northwest  10600.54830\n",
       "1334   18  female  31.920         0     no  northeast   2205.98080\n",
       "1335   18  female  36.850         0     no  southeast   1629.83350\n",
       "1336   21  female  25.800         0     no  southwest   2007.94500\n",
       "1337   61  female  29.070         0    yes  northwest  29141.36030\n",
       "\n",
       "[1338 rows x 7 columns]"
      ]
     },
     "execution_count": 5,
     "metadata": {},
     "output_type": "execute_result"
    }
   ],
   "source": [
    "df"
   ]
  },
  {
   "cell_type": "code",
   "execution_count": null,
   "id": "f7b54902",
   "metadata": {},
   "outputs": [],
   "source": []
  },
  {
   "cell_type": "code",
   "execution_count": 6,
   "id": "b525c9ce",
   "metadata": {},
   "outputs": [
    {
     "name": "stdout",
     "output_type": "stream",
     "text": [
      "<class 'pandas.core.frame.DataFrame'>\n",
      "RangeIndex: 1338 entries, 0 to 1337\n",
      "Data columns (total 7 columns):\n",
      " #   Column    Non-Null Count  Dtype  \n",
      "---  ------    --------------  -----  \n",
      " 0   age       1338 non-null   int64  \n",
      " 1   sex       1338 non-null   object \n",
      " 2   bmi       1338 non-null   float64\n",
      " 3   children  1338 non-null   int64  \n",
      " 4   smoker    1338 non-null   object \n",
      " 5   region    1338 non-null   object \n",
      " 6   charges   1338 non-null   float64\n",
      "dtypes: float64(2), int64(2), object(3)\n",
      "memory usage: 73.3+ KB\n"
     ]
    }
   ],
   "source": [
    "df.info()"
   ]
  },
  {
   "cell_type": "code",
   "execution_count": 7,
   "id": "8372cb7b",
   "metadata": {},
   "outputs": [
    {
     "data": {
      "text/html": [
       "<div>\n",
       "<style scoped>\n",
       "    .dataframe tbody tr th:only-of-type {\n",
       "        vertical-align: middle;\n",
       "    }\n",
       "\n",
       "    .dataframe tbody tr th {\n",
       "        vertical-align: top;\n",
       "    }\n",
       "\n",
       "    .dataframe thead th {\n",
       "        text-align: right;\n",
       "    }\n",
       "</style>\n",
       "<table border=\"1\" class=\"dataframe\">\n",
       "  <thead>\n",
       "    <tr style=\"text-align: right;\">\n",
       "      <th></th>\n",
       "      <th>age</th>\n",
       "      <th>bmi</th>\n",
       "      <th>children</th>\n",
       "      <th>charges</th>\n",
       "    </tr>\n",
       "  </thead>\n",
       "  <tbody>\n",
       "    <tr>\n",
       "      <th>count</th>\n",
       "      <td>1338.000000</td>\n",
       "      <td>1338.000000</td>\n",
       "      <td>1338.000000</td>\n",
       "      <td>1338.000000</td>\n",
       "    </tr>\n",
       "    <tr>\n",
       "      <th>mean</th>\n",
       "      <td>39.207025</td>\n",
       "      <td>30.663397</td>\n",
       "      <td>1.094918</td>\n",
       "      <td>13270.422265</td>\n",
       "    </tr>\n",
       "    <tr>\n",
       "      <th>std</th>\n",
       "      <td>14.049960</td>\n",
       "      <td>6.098187</td>\n",
       "      <td>1.205493</td>\n",
       "      <td>12110.011237</td>\n",
       "    </tr>\n",
       "    <tr>\n",
       "      <th>min</th>\n",
       "      <td>18.000000</td>\n",
       "      <td>15.960000</td>\n",
       "      <td>0.000000</td>\n",
       "      <td>1121.873900</td>\n",
       "    </tr>\n",
       "    <tr>\n",
       "      <th>25%</th>\n",
       "      <td>27.000000</td>\n",
       "      <td>26.296250</td>\n",
       "      <td>0.000000</td>\n",
       "      <td>4740.287150</td>\n",
       "    </tr>\n",
       "    <tr>\n",
       "      <th>50%</th>\n",
       "      <td>39.000000</td>\n",
       "      <td>30.400000</td>\n",
       "      <td>1.000000</td>\n",
       "      <td>9382.033000</td>\n",
       "    </tr>\n",
       "    <tr>\n",
       "      <th>75%</th>\n",
       "      <td>51.000000</td>\n",
       "      <td>34.693750</td>\n",
       "      <td>2.000000</td>\n",
       "      <td>16639.912515</td>\n",
       "    </tr>\n",
       "    <tr>\n",
       "      <th>max</th>\n",
       "      <td>64.000000</td>\n",
       "      <td>53.130000</td>\n",
       "      <td>5.000000</td>\n",
       "      <td>63770.428010</td>\n",
       "    </tr>\n",
       "  </tbody>\n",
       "</table>\n",
       "</div>"
      ],
      "text/plain": [
       "               age          bmi     children       charges\n",
       "count  1338.000000  1338.000000  1338.000000   1338.000000\n",
       "mean     39.207025    30.663397     1.094918  13270.422265\n",
       "std      14.049960     6.098187     1.205493  12110.011237\n",
       "min      18.000000    15.960000     0.000000   1121.873900\n",
       "25%      27.000000    26.296250     0.000000   4740.287150\n",
       "50%      39.000000    30.400000     1.000000   9382.033000\n",
       "75%      51.000000    34.693750     2.000000  16639.912515\n",
       "max      64.000000    53.130000     5.000000  63770.428010"
      ]
     },
     "execution_count": 7,
     "metadata": {},
     "output_type": "execute_result"
    }
   ],
   "source": [
    "df.describe()"
   ]
  },
  {
   "cell_type": "code",
   "execution_count": 8,
   "id": "f82b64ad",
   "metadata": {},
   "outputs": [],
   "source": [
    "from sklearn.preprocessing import LabelEncoder"
   ]
  },
  {
   "cell_type": "code",
   "execution_count": 9,
   "id": "2ff2caf1",
   "metadata": {},
   "outputs": [],
   "source": [
    "le=LabelEncoder()"
   ]
  },
  {
   "cell_type": "code",
   "execution_count": 10,
   "id": "3b4fbb53",
   "metadata": {},
   "outputs": [
    {
     "data": {
      "text/html": [
       "<div>\n",
       "<style scoped>\n",
       "    .dataframe tbody tr th:only-of-type {\n",
       "        vertical-align: middle;\n",
       "    }\n",
       "\n",
       "    .dataframe tbody tr th {\n",
       "        vertical-align: top;\n",
       "    }\n",
       "\n",
       "    .dataframe thead th {\n",
       "        text-align: right;\n",
       "    }\n",
       "</style>\n",
       "<table border=\"1\" class=\"dataframe\">\n",
       "  <thead>\n",
       "    <tr style=\"text-align: right;\">\n",
       "      <th></th>\n",
       "      <th>age</th>\n",
       "      <th>sex</th>\n",
       "      <th>bmi</th>\n",
       "      <th>children</th>\n",
       "      <th>smoker</th>\n",
       "      <th>region</th>\n",
       "      <th>charges</th>\n",
       "    </tr>\n",
       "  </thead>\n",
       "  <tbody>\n",
       "    <tr>\n",
       "      <th>0</th>\n",
       "      <td>19</td>\n",
       "      <td>female</td>\n",
       "      <td>27.900</td>\n",
       "      <td>0</td>\n",
       "      <td>yes</td>\n",
       "      <td>southwest</td>\n",
       "      <td>16884.92400</td>\n",
       "    </tr>\n",
       "    <tr>\n",
       "      <th>1</th>\n",
       "      <td>18</td>\n",
       "      <td>male</td>\n",
       "      <td>33.770</td>\n",
       "      <td>1</td>\n",
       "      <td>no</td>\n",
       "      <td>southeast</td>\n",
       "      <td>1725.55230</td>\n",
       "    </tr>\n",
       "    <tr>\n",
       "      <th>2</th>\n",
       "      <td>28</td>\n",
       "      <td>male</td>\n",
       "      <td>33.000</td>\n",
       "      <td>3</td>\n",
       "      <td>no</td>\n",
       "      <td>southeast</td>\n",
       "      <td>4449.46200</td>\n",
       "    </tr>\n",
       "    <tr>\n",
       "      <th>3</th>\n",
       "      <td>33</td>\n",
       "      <td>male</td>\n",
       "      <td>22.705</td>\n",
       "      <td>0</td>\n",
       "      <td>no</td>\n",
       "      <td>northwest</td>\n",
       "      <td>21984.47061</td>\n",
       "    </tr>\n",
       "    <tr>\n",
       "      <th>4</th>\n",
       "      <td>32</td>\n",
       "      <td>male</td>\n",
       "      <td>28.880</td>\n",
       "      <td>0</td>\n",
       "      <td>no</td>\n",
       "      <td>northwest</td>\n",
       "      <td>3866.85520</td>\n",
       "    </tr>\n",
       "    <tr>\n",
       "      <th>...</th>\n",
       "      <td>...</td>\n",
       "      <td>...</td>\n",
       "      <td>...</td>\n",
       "      <td>...</td>\n",
       "      <td>...</td>\n",
       "      <td>...</td>\n",
       "      <td>...</td>\n",
       "    </tr>\n",
       "    <tr>\n",
       "      <th>1333</th>\n",
       "      <td>50</td>\n",
       "      <td>male</td>\n",
       "      <td>30.970</td>\n",
       "      <td>3</td>\n",
       "      <td>no</td>\n",
       "      <td>northwest</td>\n",
       "      <td>10600.54830</td>\n",
       "    </tr>\n",
       "    <tr>\n",
       "      <th>1334</th>\n",
       "      <td>18</td>\n",
       "      <td>female</td>\n",
       "      <td>31.920</td>\n",
       "      <td>0</td>\n",
       "      <td>no</td>\n",
       "      <td>northeast</td>\n",
       "      <td>2205.98080</td>\n",
       "    </tr>\n",
       "    <tr>\n",
       "      <th>1335</th>\n",
       "      <td>18</td>\n",
       "      <td>female</td>\n",
       "      <td>36.850</td>\n",
       "      <td>0</td>\n",
       "      <td>no</td>\n",
       "      <td>southeast</td>\n",
       "      <td>1629.83350</td>\n",
       "    </tr>\n",
       "    <tr>\n",
       "      <th>1336</th>\n",
       "      <td>21</td>\n",
       "      <td>female</td>\n",
       "      <td>25.800</td>\n",
       "      <td>0</td>\n",
       "      <td>no</td>\n",
       "      <td>southwest</td>\n",
       "      <td>2007.94500</td>\n",
       "    </tr>\n",
       "    <tr>\n",
       "      <th>1337</th>\n",
       "      <td>61</td>\n",
       "      <td>female</td>\n",
       "      <td>29.070</td>\n",
       "      <td>0</td>\n",
       "      <td>yes</td>\n",
       "      <td>northwest</td>\n",
       "      <td>29141.36030</td>\n",
       "    </tr>\n",
       "  </tbody>\n",
       "</table>\n",
       "<p>1338 rows × 7 columns</p>\n",
       "</div>"
      ],
      "text/plain": [
       "      age     sex     bmi  children smoker     region      charges\n",
       "0      19  female  27.900         0    yes  southwest  16884.92400\n",
       "1      18    male  33.770         1     no  southeast   1725.55230\n",
       "2      28    male  33.000         3     no  southeast   4449.46200\n",
       "3      33    male  22.705         0     no  northwest  21984.47061\n",
       "4      32    male  28.880         0     no  northwest   3866.85520\n",
       "...   ...     ...     ...       ...    ...        ...          ...\n",
       "1333   50    male  30.970         3     no  northwest  10600.54830\n",
       "1334   18  female  31.920         0     no  northeast   2205.98080\n",
       "1335   18  female  36.850         0     no  southeast   1629.83350\n",
       "1336   21  female  25.800         0     no  southwest   2007.94500\n",
       "1337   61  female  29.070         0    yes  northwest  29141.36030\n",
       "\n",
       "[1338 rows x 7 columns]"
      ]
     },
     "execution_count": 10,
     "metadata": {},
     "output_type": "execute_result"
    }
   ],
   "source": [
    "df"
   ]
  },
  {
   "cell_type": "code",
   "execution_count": null,
   "id": "580352f5",
   "metadata": {},
   "outputs": [],
   "source": []
  },
  {
   "cell_type": "code",
   "execution_count": null,
   "id": "e827c490",
   "metadata": {},
   "outputs": [],
   "source": []
  },
  {
   "cell_type": "code",
   "execution_count": 11,
   "id": "fc6ee02e",
   "metadata": {},
   "outputs": [],
   "source": [
    "df.sex=le.fit_transform(df.sex)"
   ]
  },
  {
   "cell_type": "code",
   "execution_count": 12,
   "id": "52fa3d5d",
   "metadata": {},
   "outputs": [],
   "source": [
    "df.smoker=le.fit_transform(df.smoker)"
   ]
  },
  {
   "cell_type": "code",
   "execution_count": 13,
   "id": "0a1bd0c2",
   "metadata": {},
   "outputs": [],
   "source": [
    "df.region=le.fit_transform(df.region)"
   ]
  },
  {
   "cell_type": "code",
   "execution_count": 14,
   "id": "375792df",
   "metadata": {},
   "outputs": [
    {
     "data": {
      "text/html": [
       "<div>\n",
       "<style scoped>\n",
       "    .dataframe tbody tr th:only-of-type {\n",
       "        vertical-align: middle;\n",
       "    }\n",
       "\n",
       "    .dataframe tbody tr th {\n",
       "        vertical-align: top;\n",
       "    }\n",
       "\n",
       "    .dataframe thead th {\n",
       "        text-align: right;\n",
       "    }\n",
       "</style>\n",
       "<table border=\"1\" class=\"dataframe\">\n",
       "  <thead>\n",
       "    <tr style=\"text-align: right;\">\n",
       "      <th></th>\n",
       "      <th>age</th>\n",
       "      <th>sex</th>\n",
       "      <th>bmi</th>\n",
       "      <th>children</th>\n",
       "      <th>smoker</th>\n",
       "      <th>region</th>\n",
       "      <th>charges</th>\n",
       "    </tr>\n",
       "  </thead>\n",
       "  <tbody>\n",
       "    <tr>\n",
       "      <th>0</th>\n",
       "      <td>19</td>\n",
       "      <td>0</td>\n",
       "      <td>27.900</td>\n",
       "      <td>0</td>\n",
       "      <td>1</td>\n",
       "      <td>3</td>\n",
       "      <td>16884.92400</td>\n",
       "    </tr>\n",
       "    <tr>\n",
       "      <th>1</th>\n",
       "      <td>18</td>\n",
       "      <td>1</td>\n",
       "      <td>33.770</td>\n",
       "      <td>1</td>\n",
       "      <td>0</td>\n",
       "      <td>2</td>\n",
       "      <td>1725.55230</td>\n",
       "    </tr>\n",
       "    <tr>\n",
       "      <th>2</th>\n",
       "      <td>28</td>\n",
       "      <td>1</td>\n",
       "      <td>33.000</td>\n",
       "      <td>3</td>\n",
       "      <td>0</td>\n",
       "      <td>2</td>\n",
       "      <td>4449.46200</td>\n",
       "    </tr>\n",
       "    <tr>\n",
       "      <th>3</th>\n",
       "      <td>33</td>\n",
       "      <td>1</td>\n",
       "      <td>22.705</td>\n",
       "      <td>0</td>\n",
       "      <td>0</td>\n",
       "      <td>1</td>\n",
       "      <td>21984.47061</td>\n",
       "    </tr>\n",
       "    <tr>\n",
       "      <th>4</th>\n",
       "      <td>32</td>\n",
       "      <td>1</td>\n",
       "      <td>28.880</td>\n",
       "      <td>0</td>\n",
       "      <td>0</td>\n",
       "      <td>1</td>\n",
       "      <td>3866.85520</td>\n",
       "    </tr>\n",
       "    <tr>\n",
       "      <th>...</th>\n",
       "      <td>...</td>\n",
       "      <td>...</td>\n",
       "      <td>...</td>\n",
       "      <td>...</td>\n",
       "      <td>...</td>\n",
       "      <td>...</td>\n",
       "      <td>...</td>\n",
       "    </tr>\n",
       "    <tr>\n",
       "      <th>1333</th>\n",
       "      <td>50</td>\n",
       "      <td>1</td>\n",
       "      <td>30.970</td>\n",
       "      <td>3</td>\n",
       "      <td>0</td>\n",
       "      <td>1</td>\n",
       "      <td>10600.54830</td>\n",
       "    </tr>\n",
       "    <tr>\n",
       "      <th>1334</th>\n",
       "      <td>18</td>\n",
       "      <td>0</td>\n",
       "      <td>31.920</td>\n",
       "      <td>0</td>\n",
       "      <td>0</td>\n",
       "      <td>0</td>\n",
       "      <td>2205.98080</td>\n",
       "    </tr>\n",
       "    <tr>\n",
       "      <th>1335</th>\n",
       "      <td>18</td>\n",
       "      <td>0</td>\n",
       "      <td>36.850</td>\n",
       "      <td>0</td>\n",
       "      <td>0</td>\n",
       "      <td>2</td>\n",
       "      <td>1629.83350</td>\n",
       "    </tr>\n",
       "    <tr>\n",
       "      <th>1336</th>\n",
       "      <td>21</td>\n",
       "      <td>0</td>\n",
       "      <td>25.800</td>\n",
       "      <td>0</td>\n",
       "      <td>0</td>\n",
       "      <td>3</td>\n",
       "      <td>2007.94500</td>\n",
       "    </tr>\n",
       "    <tr>\n",
       "      <th>1337</th>\n",
       "      <td>61</td>\n",
       "      <td>0</td>\n",
       "      <td>29.070</td>\n",
       "      <td>0</td>\n",
       "      <td>1</td>\n",
       "      <td>1</td>\n",
       "      <td>29141.36030</td>\n",
       "    </tr>\n",
       "  </tbody>\n",
       "</table>\n",
       "<p>1338 rows × 7 columns</p>\n",
       "</div>"
      ],
      "text/plain": [
       "      age  sex     bmi  children  smoker  region      charges\n",
       "0      19    0  27.900         0       1       3  16884.92400\n",
       "1      18    1  33.770         1       0       2   1725.55230\n",
       "2      28    1  33.000         3       0       2   4449.46200\n",
       "3      33    1  22.705         0       0       1  21984.47061\n",
       "4      32    1  28.880         0       0       1   3866.85520\n",
       "...   ...  ...     ...       ...     ...     ...          ...\n",
       "1333   50    1  30.970         3       0       1  10600.54830\n",
       "1334   18    0  31.920         0       0       0   2205.98080\n",
       "1335   18    0  36.850         0       0       2   1629.83350\n",
       "1336   21    0  25.800         0       0       3   2007.94500\n",
       "1337   61    0  29.070         0       1       1  29141.36030\n",
       "\n",
       "[1338 rows x 7 columns]"
      ]
     },
     "execution_count": 14,
     "metadata": {},
     "output_type": "execute_result"
    }
   ],
   "source": [
    "df"
   ]
  },
  {
   "cell_type": "code",
   "execution_count": 15,
   "id": "78007bb7",
   "metadata": {},
   "outputs": [],
   "source": [
    "df_corr=df.corr()"
   ]
  },
  {
   "cell_type": "code",
   "execution_count": 16,
   "id": "f03d4486",
   "metadata": {},
   "outputs": [
    {
     "data": {
      "text/html": [
       "<div>\n",
       "<style scoped>\n",
       "    .dataframe tbody tr th:only-of-type {\n",
       "        vertical-align: middle;\n",
       "    }\n",
       "\n",
       "    .dataframe tbody tr th {\n",
       "        vertical-align: top;\n",
       "    }\n",
       "\n",
       "    .dataframe thead th {\n",
       "        text-align: right;\n",
       "    }\n",
       "</style>\n",
       "<table border=\"1\" class=\"dataframe\">\n",
       "  <thead>\n",
       "    <tr style=\"text-align: right;\">\n",
       "      <th></th>\n",
       "      <th>age</th>\n",
       "      <th>sex</th>\n",
       "      <th>bmi</th>\n",
       "      <th>children</th>\n",
       "      <th>smoker</th>\n",
       "      <th>region</th>\n",
       "      <th>charges</th>\n",
       "    </tr>\n",
       "  </thead>\n",
       "  <tbody>\n",
       "    <tr>\n",
       "      <th>age</th>\n",
       "      <td>1.000000</td>\n",
       "      <td>-0.020856</td>\n",
       "      <td>0.109272</td>\n",
       "      <td>0.042469</td>\n",
       "      <td>-0.025019</td>\n",
       "      <td>0.002127</td>\n",
       "      <td>0.299008</td>\n",
       "    </tr>\n",
       "    <tr>\n",
       "      <th>sex</th>\n",
       "      <td>-0.020856</td>\n",
       "      <td>1.000000</td>\n",
       "      <td>0.046371</td>\n",
       "      <td>0.017163</td>\n",
       "      <td>0.076185</td>\n",
       "      <td>0.004588</td>\n",
       "      <td>0.057292</td>\n",
       "    </tr>\n",
       "    <tr>\n",
       "      <th>bmi</th>\n",
       "      <td>0.109272</td>\n",
       "      <td>0.046371</td>\n",
       "      <td>1.000000</td>\n",
       "      <td>0.012759</td>\n",
       "      <td>0.003750</td>\n",
       "      <td>0.157566</td>\n",
       "      <td>0.198341</td>\n",
       "    </tr>\n",
       "    <tr>\n",
       "      <th>children</th>\n",
       "      <td>0.042469</td>\n",
       "      <td>0.017163</td>\n",
       "      <td>0.012759</td>\n",
       "      <td>1.000000</td>\n",
       "      <td>0.007673</td>\n",
       "      <td>0.016569</td>\n",
       "      <td>0.067998</td>\n",
       "    </tr>\n",
       "    <tr>\n",
       "      <th>smoker</th>\n",
       "      <td>-0.025019</td>\n",
       "      <td>0.076185</td>\n",
       "      <td>0.003750</td>\n",
       "      <td>0.007673</td>\n",
       "      <td>1.000000</td>\n",
       "      <td>-0.002181</td>\n",
       "      <td>0.787251</td>\n",
       "    </tr>\n",
       "    <tr>\n",
       "      <th>region</th>\n",
       "      <td>0.002127</td>\n",
       "      <td>0.004588</td>\n",
       "      <td>0.157566</td>\n",
       "      <td>0.016569</td>\n",
       "      <td>-0.002181</td>\n",
       "      <td>1.000000</td>\n",
       "      <td>-0.006208</td>\n",
       "    </tr>\n",
       "    <tr>\n",
       "      <th>charges</th>\n",
       "      <td>0.299008</td>\n",
       "      <td>0.057292</td>\n",
       "      <td>0.198341</td>\n",
       "      <td>0.067998</td>\n",
       "      <td>0.787251</td>\n",
       "      <td>-0.006208</td>\n",
       "      <td>1.000000</td>\n",
       "    </tr>\n",
       "  </tbody>\n",
       "</table>\n",
       "</div>"
      ],
      "text/plain": [
       "               age       sex       bmi  children    smoker    region   charges\n",
       "age       1.000000 -0.020856  0.109272  0.042469 -0.025019  0.002127  0.299008\n",
       "sex      -0.020856  1.000000  0.046371  0.017163  0.076185  0.004588  0.057292\n",
       "bmi       0.109272  0.046371  1.000000  0.012759  0.003750  0.157566  0.198341\n",
       "children  0.042469  0.017163  0.012759  1.000000  0.007673  0.016569  0.067998\n",
       "smoker   -0.025019  0.076185  0.003750  0.007673  1.000000 -0.002181  0.787251\n",
       "region    0.002127  0.004588  0.157566  0.016569 -0.002181  1.000000 -0.006208\n",
       "charges   0.299008  0.057292  0.198341  0.067998  0.787251 -0.006208  1.000000"
      ]
     },
     "execution_count": 16,
     "metadata": {},
     "output_type": "execute_result"
    }
   ],
   "source": [
    "df_corr"
   ]
  },
  {
   "cell_type": "code",
   "execution_count": 17,
   "id": "b449f13f",
   "metadata": {},
   "outputs": [
    {
     "data": {
      "text/plain": [
       "age         0\n",
       "sex         0\n",
       "bmi         0\n",
       "children    0\n",
       "smoker      0\n",
       "region      0\n",
       "charges     0\n",
       "dtype: int64"
      ]
     },
     "execution_count": 17,
     "metadata": {},
     "output_type": "execute_result"
    }
   ],
   "source": [
    "df.isnull().sum()"
   ]
  },
  {
   "cell_type": "code",
   "execution_count": 18,
   "id": "a44b1039",
   "metadata": {},
   "outputs": [
    {
     "data": {
      "text/plain": [
       "<Axes: >"
      ]
     },
     "execution_count": 18,
     "metadata": {},
     "output_type": "execute_result"
    },
    {
     "data": {
      "image/png": "[encoded data removed]",
      "text/plain": [
       "<Figure size 640x480 with 2 Axes>"
      ]
     },
     "metadata": {},
     "output_type": "display_data"
    }
   ],
   "source": [
    "sns.heatmap(df.isnull())"
   ]
  },
  {
   "cell_type": "code",
   "execution_count": 19,
   "id": "a5f017c3",
   "metadata": {},
   "outputs": [
    {
     "data": {
      "text/html": [
       "<div>\n",
       "<style scoped>\n",
       "    .dataframe tbody tr th:only-of-type {\n",
       "        vertical-align: middle;\n",
       "    }\n",
       "\n",
       "    .dataframe tbody tr th {\n",
       "        vertical-align: top;\n",
       "    }\n",
       "\n",
       "    .dataframe thead th {\n",
       "        text-align: right;\n",
       "    }\n",
       "</style>\n",
       "<table border=\"1\" class=\"dataframe\">\n",
       "  <thead>\n",
       "    <tr style=\"text-align: right;\">\n",
       "      <th></th>\n",
       "      <th>age</th>\n",
       "      <th>sex</th>\n",
       "      <th>bmi</th>\n",
       "      <th>children</th>\n",
       "      <th>smoker</th>\n",
       "      <th>region</th>\n",
       "      <th>charges</th>\n",
       "    </tr>\n",
       "  </thead>\n",
       "  <tbody>\n",
       "    <tr>\n",
       "      <th>age</th>\n",
       "      <td>1.000000</td>\n",
       "      <td>-0.020856</td>\n",
       "      <td>0.109272</td>\n",
       "      <td>0.042469</td>\n",
       "      <td>-0.025019</td>\n",
       "      <td>0.002127</td>\n",
       "      <td>0.299008</td>\n",
       "    </tr>\n",
       "    <tr>\n",
       "      <th>sex</th>\n",
       "      <td>-0.020856</td>\n",
       "      <td>1.000000</td>\n",
       "      <td>0.046371</td>\n",
       "      <td>0.017163</td>\n",
       "      <td>0.076185</td>\n",
       "      <td>0.004588</td>\n",
       "      <td>0.057292</td>\n",
       "    </tr>\n",
       "    <tr>\n",
       "      <th>bmi</th>\n",
       "      <td>0.109272</td>\n",
       "      <td>0.046371</td>\n",
       "      <td>1.000000</td>\n",
       "      <td>0.012759</td>\n",
       "      <td>0.003750</td>\n",
       "      <td>0.157566</td>\n",
       "      <td>0.198341</td>\n",
       "    </tr>\n",
       "    <tr>\n",
       "      <th>children</th>\n",
       "      <td>0.042469</td>\n",
       "      <td>0.017163</td>\n",
       "      <td>0.012759</td>\n",
       "      <td>1.000000</td>\n",
       "      <td>0.007673</td>\n",
       "      <td>0.016569</td>\n",
       "      <td>0.067998</td>\n",
       "    </tr>\n",
       "    <tr>\n",
       "      <th>smoker</th>\n",
       "      <td>-0.025019</td>\n",
       "      <td>0.076185</td>\n",
       "      <td>0.003750</td>\n",
       "      <td>0.007673</td>\n",
       "      <td>1.000000</td>\n",
       "      <td>-0.002181</td>\n",
       "      <td>0.787251</td>\n",
       "    </tr>\n",
       "    <tr>\n",
       "      <th>region</th>\n",
       "      <td>0.002127</td>\n",
       "      <td>0.004588</td>\n",
       "      <td>0.157566</td>\n",
       "      <td>0.016569</td>\n",
       "      <td>-0.002181</td>\n",
       "      <td>1.000000</td>\n",
       "      <td>-0.006208</td>\n",
       "    </tr>\n",
       "    <tr>\n",
       "      <th>charges</th>\n",
       "      <td>0.299008</td>\n",
       "      <td>0.057292</td>\n",
       "      <td>0.198341</td>\n",
       "      <td>0.067998</td>\n",
       "      <td>0.787251</td>\n",
       "      <td>-0.006208</td>\n",
       "      <td>1.000000</td>\n",
       "    </tr>\n",
       "  </tbody>\n",
       "</table>\n",
       "</div>"
      ],
      "text/plain": [
       "               age       sex       bmi  children    smoker    region   charges\n",
       "age       1.000000 -0.020856  0.109272  0.042469 -0.025019  0.002127  0.299008\n",
       "sex      -0.020856  1.000000  0.046371  0.017163  0.076185  0.004588  0.057292\n",
       "bmi       0.109272  0.046371  1.000000  0.012759  0.003750  0.157566  0.198341\n",
       "children  0.042469  0.017163  0.012759  1.000000  0.007673  0.016569  0.067998\n",
       "smoker   -0.025019  0.076185  0.003750  0.007673  1.000000 -0.002181  0.787251\n",
       "region    0.002127  0.004588  0.157566  0.016569 -0.002181  1.000000 -0.006208\n",
       "charges   0.299008  0.057292  0.198341  0.067998  0.787251 -0.006208  1.000000"
      ]
     },
     "execution_count": 19,
     "metadata": {},
     "output_type": "execute_result"
    }
   ],
   "source": [
    "df_corr"
   ]
  },
  {
   "cell_type": "code",
   "execution_count": 20,
   "id": "adb15c86",
   "metadata": {},
   "outputs": [
    {
     "data": {
      "text/plain": [
       "<Axes: >"
      ]
     },
     "execution_count": 20,
     "metadata": {},
     "output_type": "execute_result"
    },
    {
     "data": {
      "image/png": "[encoded data removed]",
      "text/plain": [
       "<Figure size 800x400 with 2 Axes>"
      ]
     },
     "metadata": {},
     "output_type": "display_data"
    }
   ],
   "source": [
    "plt.figure(figsize=(8,4))\n",
    "sns.heatmap(df_corr,cmap='Blues',annot=True)"
   ]
  },
  {
   "cell_type": "code",
   "execution_count": 21,
   "id": "0ed4b844",
   "metadata": {},
   "outputs": [
    {
     "data": {
      "text/plain": [
       "<Axes: >"
      ]
     },
     "execution_count": 21,
     "metadata": {},
     "output_type": "execute_result"
    },
    {
     "data": {
      "image/png": "[encoded data removed]",
      "text/plain": [
       "<Figure size 640x480 with 1 Axes>"
      ]
     },
     "metadata": {},
     "output_type": "display_data"
    }
   ],
   "source": [
    "df['age'].plot.box()"
   ]
  },
  {
   "cell_type": "code",
   "execution_count": 22,
   "id": "b0a8552c",
   "metadata": {},
   "outputs": [
    {
     "data": {
      "text/plain": [
       "age         0.055673\n",
       "sex        -0.020951\n",
       "bmi         0.284047\n",
       "children    0.938380\n",
       "smoker      1.464766\n",
       "region     -0.038101\n",
       "charges     1.515880\n",
       "dtype: float64"
      ]
     },
     "execution_count": 22,
     "metadata": {},
     "output_type": "execute_result"
    }
   ],
   "source": [
    "df.skew()"
   ]
  },
  {
   "cell_type": "code",
   "execution_count": 23,
   "id": "6a380d40",
   "metadata": {},
   "outputs": [],
   "source": [
    "df.smoker=df.smoker"
   ]
  },
  {
   "cell_type": "code",
   "execution_count": 24,
   "id": "7ef859fc",
   "metadata": {},
   "outputs": [],
   "source": [
    "import scipy\n",
    "from scipy.stats import zscore,boxcox"
   ]
  },
  {
   "cell_type": "code",
   "execution_count": 25,
   "id": "1515cb64",
   "metadata": {},
   "outputs": [
    {
     "data": {
      "text/plain": [
       "<Axes: ylabel='Frequency'>"
      ]
     },
     "execution_count": 25,
     "metadata": {},
     "output_type": "execute_result"
    },
    {
     "data": {
      "image/png": "[encoded data removed]",
      "text/plain": [
       "<Figure size 640x480 with 1 Axes>"
      ]
     },
     "metadata": {},
     "output_type": "display_data"
    }
   ],
   "source": [
    "df.smoker.plot.hist()"
   ]
  },
  {
   "cell_type": "code",
   "execution_count": 26,
   "id": "4d1ff27e",
   "metadata": {},
   "outputs": [],
   "source": [
    "from sklearn.preprocessing import StandardScaler"
   ]
  },
  {
   "cell_type": "code",
   "execution_count": 27,
   "id": "5fa2dcda",
   "metadata": {},
   "outputs": [],
   "source": [
    "scaler=StandardScaler()"
   ]
  },
  {
   "cell_type": "code",
   "execution_count": 28,
   "id": "45d250b0",
   "metadata": {},
   "outputs": [],
   "source": [
    "x=df.iloc[:,0:-1]"
   ]
  },
  {
   "cell_type": "code",
   "execution_count": 29,
   "id": "b3a49991",
   "metadata": {},
   "outputs": [],
   "source": [
    "y=df.iloc[:,-1]"
   ]
  },
  {
   "cell_type": "code",
   "execution_count": 30,
   "id": "3b11e6ce",
   "metadata": {},
   "outputs": [],
   "source": [
    "x_scaled=scaler.fit_transform(x)"
   ]
  },
  {
   "cell_type": "code",
   "execution_count": 31,
   "id": "3a8159a3",
   "metadata": {},
   "outputs": [
    {
     "data": {
      "text/plain": [
       "array([[-1.43876426, -1.0105187 , -0.45332   , -0.90861367,  1.97058663,\n",
       "         1.34390459],\n",
       "       [-1.50996545,  0.98959079,  0.5096211 , -0.07876719, -0.5074631 ,\n",
       "         0.43849455],\n",
       "       [-0.79795355,  0.98959079,  0.38330685,  1.58092576, -0.5074631 ,\n",
       "         0.43849455],\n",
       "       ...,\n",
       "       [-1.50996545, -1.0105187 ,  1.0148781 , -0.90861367, -0.5074631 ,\n",
       "         0.43849455],\n",
       "       [-1.29636188, -1.0105187 , -0.79781341, -0.90861367, -0.5074631 ,\n",
       "         1.34390459],\n",
       "       [ 1.55168573, -1.0105187 , -0.26138796, -0.90861367,  1.97058663,\n",
       "        -0.46691549]])"
      ]
     },
     "execution_count": 31,
     "metadata": {},
     "output_type": "execute_result"
    }
   ],
   "source": [
    "x_scaled"
   ]
  },
  {
   "cell_type": "code",
   "execution_count": 32,
   "id": "4c70f021",
   "metadata": {},
   "outputs": [],
   "source": [
    "x=pd.DataFrame(x_scaled)"
   ]
  },
  {
   "cell_type": "code",
   "execution_count": 33,
   "id": "ff17eeab",
   "metadata": {},
   "outputs": [],
   "source": [
    "lr=LinearRegression()"
   ]
  },
  {
   "cell_type": "code",
   "execution_count": null,
   "id": "0f4aa563",
   "metadata": {},
   "outputs": [],
   "source": []
  },
  {
   "cell_type": "code",
   "execution_count": null,
   "id": "04db59d4",
   "metadata": {},
   "outputs": [],
   "source": []
  },
  {
   "cell_type": "code",
   "execution_count": 34,
   "id": "6bb05dcc",
   "metadata": {},
   "outputs": [],
   "source": [
    "z=zscore(df)"
   ]
  },
  {
   "cell_type": "code",
   "execution_count": 35,
   "id": "c5cc19a9",
   "metadata": {},
   "outputs": [],
   "source": [
    "df_new=df[(z<3).all(axis=1)]"
   ]
  },
  {
   "cell_type": "code",
   "execution_count": 36,
   "id": "b54b2b4e",
   "metadata": {},
   "outputs": [
    {
     "data": {
      "text/html": [
       "<div>\n",
       "<style scoped>\n",
       "    .dataframe tbody tr th:only-of-type {\n",
       "        vertical-align: middle;\n",
       "    }\n",
       "\n",
       "    .dataframe tbody tr th {\n",
       "        vertical-align: top;\n",
       "    }\n",
       "\n",
       "    .dataframe thead th {\n",
       "        text-align: right;\n",
       "    }\n",
       "</style>\n",
       "<table border=\"1\" class=\"dataframe\">\n",
       "  <thead>\n",
       "    <tr style=\"text-align: right;\">\n",
       "      <th></th>\n",
       "      <th>age</th>\n",
       "      <th>sex</th>\n",
       "      <th>bmi</th>\n",
       "      <th>children</th>\n",
       "      <th>smoker</th>\n",
       "      <th>region</th>\n",
       "      <th>charges</th>\n",
       "    </tr>\n",
       "  </thead>\n",
       "  <tbody>\n",
       "    <tr>\n",
       "      <th>0</th>\n",
       "      <td>19</td>\n",
       "      <td>0</td>\n",
       "      <td>27.900</td>\n",
       "      <td>0</td>\n",
       "      <td>1</td>\n",
       "      <td>3</td>\n",
       "      <td>16884.92400</td>\n",
       "    </tr>\n",
       "    <tr>\n",
       "      <th>1</th>\n",
       "      <td>18</td>\n",
       "      <td>1</td>\n",
       "      <td>33.770</td>\n",
       "      <td>1</td>\n",
       "      <td>0</td>\n",
       "      <td>2</td>\n",
       "      <td>1725.55230</td>\n",
       "    </tr>\n",
       "    <tr>\n",
       "      <th>2</th>\n",
       "      <td>28</td>\n",
       "      <td>1</td>\n",
       "      <td>33.000</td>\n",
       "      <td>3</td>\n",
       "      <td>0</td>\n",
       "      <td>2</td>\n",
       "      <td>4449.46200</td>\n",
       "    </tr>\n",
       "    <tr>\n",
       "      <th>3</th>\n",
       "      <td>33</td>\n",
       "      <td>1</td>\n",
       "      <td>22.705</td>\n",
       "      <td>0</td>\n",
       "      <td>0</td>\n",
       "      <td>1</td>\n",
       "      <td>21984.47061</td>\n",
       "    </tr>\n",
       "    <tr>\n",
       "      <th>4</th>\n",
       "      <td>32</td>\n",
       "      <td>1</td>\n",
       "      <td>28.880</td>\n",
       "      <td>0</td>\n",
       "      <td>0</td>\n",
       "      <td>1</td>\n",
       "      <td>3866.85520</td>\n",
       "    </tr>\n",
       "    <tr>\n",
       "      <th>...</th>\n",
       "      <td>...</td>\n",
       "      <td>...</td>\n",
       "      <td>...</td>\n",
       "      <td>...</td>\n",
       "      <td>...</td>\n",
       "      <td>...</td>\n",
       "      <td>...</td>\n",
       "    </tr>\n",
       "    <tr>\n",
       "      <th>1333</th>\n",
       "      <td>50</td>\n",
       "      <td>1</td>\n",
       "      <td>30.970</td>\n",
       "      <td>3</td>\n",
       "      <td>0</td>\n",
       "      <td>1</td>\n",
       "      <td>10600.54830</td>\n",
       "    </tr>\n",
       "    <tr>\n",
       "      <th>1334</th>\n",
       "      <td>18</td>\n",
       "      <td>0</td>\n",
       "      <td>31.920</td>\n",
       "      <td>0</td>\n",
       "      <td>0</td>\n",
       "      <td>0</td>\n",
       "      <td>2205.98080</td>\n",
       "    </tr>\n",
       "    <tr>\n",
       "      <th>1335</th>\n",
       "      <td>18</td>\n",
       "      <td>0</td>\n",
       "      <td>36.850</td>\n",
       "      <td>0</td>\n",
       "      <td>0</td>\n",
       "      <td>2</td>\n",
       "      <td>1629.83350</td>\n",
       "    </tr>\n",
       "    <tr>\n",
       "      <th>1336</th>\n",
       "      <td>21</td>\n",
       "      <td>0</td>\n",
       "      <td>25.800</td>\n",
       "      <td>0</td>\n",
       "      <td>0</td>\n",
       "      <td>3</td>\n",
       "      <td>2007.94500</td>\n",
       "    </tr>\n",
       "    <tr>\n",
       "      <th>1337</th>\n",
       "      <td>61</td>\n",
       "      <td>0</td>\n",
       "      <td>29.070</td>\n",
       "      <td>0</td>\n",
       "      <td>1</td>\n",
       "      <td>1</td>\n",
       "      <td>29141.36030</td>\n",
       "    </tr>\n",
       "  </tbody>\n",
       "</table>\n",
       "<p>1309 rows × 7 columns</p>\n",
       "</div>"
      ],
      "text/plain": [
       "      age  sex     bmi  children  smoker  region      charges\n",
       "0      19    0  27.900         0       1       3  16884.92400\n",
       "1      18    1  33.770         1       0       2   1725.55230\n",
       "2      28    1  33.000         3       0       2   4449.46200\n",
       "3      33    1  22.705         0       0       1  21984.47061\n",
       "4      32    1  28.880         0       0       1   3866.85520\n",
       "...   ...  ...     ...       ...     ...     ...          ...\n",
       "1333   50    1  30.970         3       0       1  10600.54830\n",
       "1334   18    0  31.920         0       0       0   2205.98080\n",
       "1335   18    0  36.850         0       0       2   1629.83350\n",
       "1336   21    0  25.800         0       0       3   2007.94500\n",
       "1337   61    0  29.070         0       1       1  29141.36030\n",
       "\n",
       "[1309 rows x 7 columns]"
      ]
     },
     "execution_count": 36,
     "metadata": {},
     "output_type": "execute_result"
    }
   ],
   "source": [
    "df_new"
   ]
  },
  {
   "cell_type": "code",
   "execution_count": null,
   "id": "f52545e1",
   "metadata": {},
   "outputs": [],
   "source": []
  },
  {
   "cell_type": "code",
   "execution_count": 37,
   "id": "0ff57acf",
   "metadata": {},
   "outputs": [],
   "source": [
    "x=df_new.iloc[:,0:-1]\n",
    "y=df_new.iloc[:,-1]"
   ]
  },
  {
   "cell_type": "code",
   "execution_count": 38,
   "id": "e39e96f1",
   "metadata": {},
   "outputs": [],
   "source": [
    "x=scaler.fit_transform(x)"
   ]
  },
  {
   "cell_type": "code",
   "execution_count": 39,
   "id": "456dfd24",
   "metadata": {},
   "outputs": [],
   "source": [
    "x=pd.DataFrame(x)"
   ]
  },
  {
   "cell_type": "code",
   "execution_count": 40,
   "id": "1f5f6f41",
   "metadata": {},
   "outputs": [],
   "source": [
    "x_train,x_test,y_train,y_test=train_test_split(x,y,test_size=.25,random_state=55)"
   ]
  },
  {
   "cell_type": "code",
   "execution_count": 41,
   "id": "430b1c04",
   "metadata": {},
   "outputs": [
    {
     "data": {
      "text/html": [
       "<style>#sk-container-id-1 {color: black;background-color: white;}#sk-container-id-1 pre{padding: 0;}#sk-container-id-1 div.sk-toggleable {background-color: white;}#sk-container-id-1 label.sk-toggleable__label {cursor: pointer;display: block;width: 100%;margin-bottom: 0;padding: 0.3em;box-sizing: border-box;text-align: center;}#sk-container-id-1 label.sk-toggleable__label-arrow:before {content: \"▸\";float: left;margin-right: 0.25em;color: #696969;}#sk-container-id-1 label.sk-toggleable__label-arrow:hover:before {color: black;}#sk-container-id-1 div.sk-estimator:hover label.sk-toggleable__label-arrow:before {color: black;}#sk-container-id-1 div.sk-toggleable__content {max-height: 0;max-width: 0;overflow: hidden;text-align: left;background-color: #f0f8ff;}#sk-container-id-1 div.sk-toggleable__content pre {margin: 0.2em;color: black;border-radius: 0.25em;background-color: #f0f8ff;}#sk-container-id-1 input.sk-toggleable__control:checked~div.sk-toggleable__content {max-height: 200px;max-width: 100%;overflow: auto;}#sk-container-id-1 input.sk-toggleable__control:checked~label.sk-toggleable__label-arrow:before {content: \"▾\";}#sk-container-id-1 div.sk-estimator input.sk-toggleable__control:checked~label.sk-toggleable__label {background-color: #d4ebff;}#sk-container-id-1 div.sk-label input.sk-toggleable__control:checked~label.sk-toggleable__label {background-color: #d4ebff;}#sk-container-id-1 input.sk-hidden--visually {border: 0;clip: rect(1px 1px 1px 1px);clip: rect(1px, 1px, 1px, 1px);height: 1px;margin: -1px;overflow: hidden;padding: 0;position: absolute;width: 1px;}#sk-container-id-1 div.sk-estimator {font-family: monospace;background-color: #f0f8ff;border: 1px dotted black;border-radius: 0.25em;box-sizing: border-box;margin-bottom: 0.5em;}#sk-container-id-1 div.sk-estimator:hover {background-color: #d4ebff;}#sk-container-id-1 div.sk-parallel-item::after {content: \"\";width: 100%;border-bottom: 1px solid gray;flex-grow: 1;}#sk-container-id-1 div.sk-label:hover label.sk-toggleable__label {background-color: #d4ebff;}#sk-container-id-1 div.sk-serial::before {content: \"\";position: absolute;border-left: 1px solid gray;box-sizing: border-box;top: 0;bottom: 0;left: 50%;z-index: 0;}#sk-container-id-1 div.sk-serial {display: flex;flex-direction: column;align-items: center;background-color: white;padding-right: 0.2em;padding-left: 0.2em;position: relative;}#sk-container-id-1 div.sk-item {position: relative;z-index: 1;}#sk-container-id-1 div.sk-parallel {display: flex;align-items: stretch;justify-content: center;background-color: white;position: relative;}#sk-container-id-1 div.sk-item::before, #sk-container-id-1 div.sk-parallel-item::before {content: \"\";position: absolute;border-left: 1px solid gray;box-sizing: border-box;top: 0;bottom: 0;left: 50%;z-index: -1;}#sk-container-id-1 div.sk-parallel-item {display: flex;flex-direction: column;z-index: 1;position: relative;background-color: white;}#sk-container-id-1 div.sk-parallel-item:first-child::after {align-self: flex-end;width: 50%;}#sk-container-id-1 div.sk-parallel-item:last-child::after {align-self: flex-start;width: 50%;}#sk-container-id-1 div.sk-parallel-item:only-child::after {width: 0;}#sk-container-id-1 div.sk-dashed-wrapped {border: 1px dashed gray;margin: 0 0.4em 0.5em 0.4em;box-sizing: border-box;padding-bottom: 0.4em;background-color: white;}#sk-container-id-1 div.sk-label label {font-family: monospace;font-weight: bold;display: inline-block;line-height: 1.2em;}#sk-container-id-1 div.sk-label-container {text-align: center;}#sk-container-id-1 div.sk-container {/* jupyter's `normalize.less` sets `[hidden] { display: none; }` but bootstrap.min.css set `[hidden] { display: none !important; }` so we also need the `!important` here to be able to override the default hidden behavior on the sphinx rendered scikit-learn.org. See: https://github.com/scikit-learn/scikit-learn/issues/21755 */display: inline-block !important;position: relative;}#sk-container-id-1 div.sk-text-repr-fallback {display: none;}</style><div id=\"sk-container-id-1\" class=\"sk-top-container\"><div class=\"sk-text-repr-fallback\"><pre>LinearRegression()</pre><b>In a Jupyter environment, please rerun this cell to show the HTML representation or trust the notebook. <br />On GitHub, the HTML representation is unable to render, please try loading this page with nbviewer.org.</b></div><div class=\"sk-container\" hidden><div class=\"sk-item\"><div class=\"sk-estimator sk-toggleable\"><input class=\"sk-toggleable__control sk-hidden--visually\" id=\"sk-estimator-id-1\" type=\"checkbox\" checked><label for=\"sk-estimator-id-1\" class=\"sk-toggleable__label sk-toggleable__label-arrow\">LinearRegression</label><div class=\"sk-toggleable__content\"><pre>LinearRegression()</pre></div></div></div></div></div>"
      ],
      "text/plain": [
       "LinearRegression()"
      ]
     },
     "execution_count": 41,
     "metadata": {},
     "output_type": "execute_result"
    }
   ],
   "source": [
    "lr.fit(x_train,y_train)"
   ]
  },
  {
   "cell_type": "code",
   "execution_count": 42,
   "id": "1c7bb934",
   "metadata": {},
   "outputs": [
    {
     "data": {
      "text/plain": [
       "0.7550027029699783"
      ]
     },
     "execution_count": 42,
     "metadata": {},
     "output_type": "execute_result"
    }
   ],
   "source": [
    "lr.score(x_train,y_train)"
   ]
  },
  {
   "cell_type": "code",
   "execution_count": 43,
   "id": "d3c13f0b",
   "metadata": {},
   "outputs": [],
   "source": [
    "pred=lr.predict(x_test)"
   ]
  },
  {
   "cell_type": "code",
   "execution_count": 44,
   "id": "8c95abd7",
   "metadata": {},
   "outputs": [
    {
     "name": "stdout",
     "output_type": "stream",
     "text": [
      "4049.2159699148474\n"
     ]
    }
   ],
   "source": [
    "print(mean_absolute_error(pred,y_test))"
   ]
  },
  {
   "cell_type": "code",
   "execution_count": 45,
   "id": "3e7dae24",
   "metadata": {},
   "outputs": [
    {
     "data": {
      "text/plain": [
       "array([11318.93413553,   572.94315871,   227.04210074,  7927.54790726,\n",
       "        2842.9122476 ,  6680.82067132, 35403.95953544, 14372.95585722,\n",
       "       16230.30419007, 16990.02004279, 37769.36151713, 15100.65692009,\n",
       "         859.28679984,  7573.15373941, 32700.96771453, 12156.15710968,\n",
       "        9305.1061703 ,  3927.98765937, 27958.47591256, 13322.70389386,\n",
       "       12087.80412573, 13318.2536527 , 33060.81981731, 10711.6281661 ,\n",
       "        3732.03819241,  4036.90437909, 36425.63320227,   979.81954318,\n",
       "        4324.99731137,  8681.08693122,  3667.99101053,  9276.98426505,\n",
       "       12830.90042684,  3591.5391264 ,  5658.23663622, 12736.18012903,\n",
       "       27193.01922179,  1566.57149431,  4191.19929817,  4600.00096381,\n",
       "        7649.60562355,  1328.98474423, 10670.39298748,  9630.07551541,\n",
       "       11167.50157881, 13170.76588538, 10269.51830172, 13785.71195449,\n",
       "       12594.80051127,  6755.64768694,  4295.59437814, 10734.34400892,\n",
       "       24827.98035691, 16416.25849168, 14818.11324517,   491.71550294,\n",
       "        6658.51654774, 14291.75969206, 16507.13025314,  3258.50195531,\n",
       "       34947.69477089,  2780.78881125,  7989.24850115,  8485.69721642,\n",
       "        8563.86057422, -2509.15501521,  3265.21217929, 33840.13219296,\n",
       "        1390.18384991, 23372.67752234, 14392.52562042,  5808.40412523,\n",
       "       26118.61639328, 12464.379576  ,  7898.58021094, 32942.56937624,\n",
       "       35266.53112657, 11533.5030155 ,  5744.18617459,  8963.08128285,\n",
       "       12405.69177301, 32952.60759899,  9912.87250808, 11077.8601847 ,\n",
       "        6609.60729059, 16520.34562971,  8618.54054626, 33244.64250866,\n",
       "        3156.25754947,  4025.98489758,  8667.64013993,  2393.22011746,\n",
       "       11396.70374588,  4928.73592668,   919.64011446, 13814.81969631,\n",
       "        6420.71357587, 11376.87943439, 12332.27584566, 28008.21060692,\n",
       "       10696.66901112, 10062.34145712, 24262.10386618,  5816.38975317,\n",
       "        5319.46828862,  5599.05815801,  9117.07059527,  4349.63885176,\n",
       "       10296.73065283, 10323.44950308, 16161.87947012, 12987.99475935,\n",
       "       36324.34629181, 29061.25635968, 30836.11640934, 28097.51805319,\n",
       "        6430.38835804,  3410.88325263,  7247.59401148, 13784.7677    ,\n",
       "       36624.70159139, 27197.35934012, 13502.88265707, 14385.65742499,\n",
       "        5053.93313508,  8732.95520152,  1212.89821817, 35975.06133452,\n",
       "       19531.12311209, 12109.95385722, 32562.17930806,  9210.11621027,\n",
       "       10501.26533392,  3202.06184685, 29861.31302983, 11997.11436242,\n",
       "        5542.67588348,  8758.68979667,  8601.26753807, 37977.52138627,\n",
       "        8287.61466387,  2036.95008501,  4710.42135278,  4741.97577428,\n",
       "       12771.19336329,  7396.47124101,  9831.19642034,  9781.75618226,\n",
       "       11358.746275  , 34971.11551284,  5568.0127541 , 10771.93009858,\n",
       "        2429.09391932, 13154.78379786,  5734.85045536, 14174.79669845,\n",
       "        8014.47085544, 22181.42697036,  5526.77676134,  7466.74439113,\n",
       "       11508.18927846, 16214.53800055,  2145.29555974,  1720.21059341,\n",
       "       10024.32094469,  7137.71419103,  4289.54406251, 28975.68818785,\n",
       "        1951.46527629,  4282.67586708,  7210.42240724, 38584.17468514,\n",
       "        1027.00175049,  2510.07900999, 31574.00088776, 10359.44178481,\n",
       "       10137.34832008, 28067.0144755 ,  6358.96709895,  9105.23953362,\n",
       "        7886.51060806,  3602.29300094,  8273.01168364, 28378.08936566,\n",
       "       13221.94556873,  2201.99534511, 11914.6256025 ,  2290.51892262,\n",
       "        7096.30107033, 26234.15120043, 15832.34258772,  7087.74413707,\n",
       "       35055.42941641,  9134.26191445,  5097.36210556,  7540.67091755,\n",
       "        9544.37448491,  2005.80097776,  7623.57302497, 13185.80525406,\n",
       "        9081.6289132 , 30057.24002441,  4631.76243591, 10224.78675116,\n",
       "       33169.95917831, 11424.16701914,  4638.00751385, 15785.29965857,\n",
       "        7470.37157706,  9642.15749921, 30065.47705122, 10249.50892164,\n",
       "         592.51373605,  3784.49206784, 13291.65848995,  8450.26863679,\n",
       "        5915.2004777 , 11887.998135  , 15471.86655331, 28216.30141275,\n",
       "       25517.12868224,  5657.14307243,  8509.96967857, 16235.47329276,\n",
       "       11026.51102344, 23112.94666481, 10997.58480305, 30490.3541528 ,\n",
       "        1049.64819259,  3574.01791546, 11731.18346355, 10812.5851848 ,\n",
       "       11772.4170607 , 40390.62462399, 14456.05731939,  8549.13323169,\n",
       "        9192.71983836,  2853.59839552,  6185.52608678,  5848.57050191,\n",
       "       30719.982802  ,  2780.78881125, 10840.45577018, 14035.69351415,\n",
       "        3852.15368511,  7977.97551756, 13289.37455942,  3641.73415692,\n",
       "        6481.5113912 , 15110.69432871, 17517.27961651,  9425.78613243,\n",
       "       26551.26330379, 13670.89728524,  8680.74581007, 14998.13964228,\n",
       "       33158.13768556,  4186.43790533,  4043.36607655, 33759.23446116,\n",
       "        8092.75476495, 17825.58946983, 10584.64166595,  3037.31417378,\n",
       "       13620.16164037, 10224.58490818,  6912.67261874,  9113.82877163,\n",
       "       10531.72504008, 36468.07240493, 10296.30062354, 10082.31853245,\n",
       "        2991.95677271,  -185.01776521,  2864.27766172,  4928.69047367,\n",
       "       36636.73491243,  9354.53846775, 33759.60267943,  5758.78155159,\n",
       "       37090.03952592,  5440.67123073, 33530.21777907, -1284.55280934,\n",
       "        1514.5576793 ,  9095.16461263, 15697.05849381, 12064.60439678,\n",
       "        7276.60788232,  6911.43149874,  2843.52026479, 10177.70591191,\n",
       "       32904.05503916, 15497.22976724, 33541.16723005, 12345.79122352,\n",
       "       27336.63923596, 17593.13391233,  3453.60283786, 13189.02909143,\n",
       "        8895.87645458, 33636.05267261, 15411.47925985,  8692.76360077,\n",
       "        4132.72499758, 14233.9831173 ,  9108.55438413,   760.2594558 ,\n",
       "          83.73205451, 10905.0060082 , 10719.51490059,  3729.70880886,\n",
       "        5414.18858642,  8317.46281932,  1731.09337669, 30686.90320596,\n",
       "        8753.77201386, 10840.30976325, 38433.32854769,  8071.97495595,\n",
       "        2716.33712927,  1300.14116543,  6335.45976547, 11886.47420451,\n",
       "       38107.89886642,  3227.11672112, 26329.36068461, 27104.23275762])"
      ]
     },
     "execution_count": 45,
     "metadata": {},
     "output_type": "execute_result"
    }
   ],
   "source": [
    "pred"
   ]
  },
  {
   "cell_type": "code",
   "execution_count": 48,
   "id": "a9f351a0",
   "metadata": {},
   "outputs": [],
   "source": [
    "from sklearn.linear_model import SGDRegressor\n",
    "from sklearn.model_selection import GridSearchCV"
   ]
  },
  {
   "cell_type": "code",
   "execution_count": 49,
   "id": "34a03fda",
   "metadata": {},
   "outputs": [],
   "source": [
    "from sklearn.pipeline import Pipeline"
   ]
  },
  {
   "cell_type": "code",
   "execution_count": 50,
   "id": "d263dfb5",
   "metadata": {},
   "outputs": [],
   "source": [
    "SGD=SGDRegressor()"
   ]
  },
  {
   "cell_type": "code",
   "execution_count": 51,
   "id": "a2572b54",
   "metadata": {},
   "outputs": [
    {
     "data": {
      "text/html": [
       "<style>#sk-container-id-2 {color: black;background-color: white;}#sk-container-id-2 pre{padding: 0;}#sk-container-id-2 div.sk-toggleable {background-color: white;}#sk-container-id-2 label.sk-toggleable__label {cursor: pointer;display: block;width: 100%;margin-bottom: 0;padding: 0.3em;box-sizing: border-box;text-align: center;}#sk-container-id-2 label.sk-toggleable__label-arrow:before {content: \"▸\";float: left;margin-right: 0.25em;color: #696969;}#sk-container-id-2 label.sk-toggleable__label-arrow:hover:before {color: black;}#sk-container-id-2 div.sk-estimator:hover label.sk-toggleable__label-arrow:before {color: black;}#sk-container-id-2 div.sk-toggleable__content {max-height: 0;max-width: 0;overflow: hidden;text-align: left;background-color: #f0f8ff;}#sk-container-id-2 div.sk-toggleable__content pre {margin: 0.2em;color: black;border-radius: 0.25em;background-color: #f0f8ff;}#sk-container-id-2 input.sk-toggleable__control:checked~div.sk-toggleable__content {max-height: 200px;max-width: 100%;overflow: auto;}#sk-container-id-2 input.sk-toggleable__control:checked~label.sk-toggleable__label-arrow:before {content: \"▾\";}#sk-container-id-2 div.sk-estimator input.sk-toggleable__control:checked~label.sk-toggleable__label {background-color: #d4ebff;}#sk-container-id-2 div.sk-label input.sk-toggleable__control:checked~label.sk-toggleable__label {background-color: #d4ebff;}#sk-container-id-2 input.sk-hidden--visually {border: 0;clip: rect(1px 1px 1px 1px);clip: rect(1px, 1px, 1px, 1px);height: 1px;margin: -1px;overflow: hidden;padding: 0;position: absolute;width: 1px;}#sk-container-id-2 div.sk-estimator {font-family: monospace;background-color: #f0f8ff;border: 1px dotted black;border-radius: 0.25em;box-sizing: border-box;margin-bottom: 0.5em;}#sk-container-id-2 div.sk-estimator:hover {background-color: #d4ebff;}#sk-container-id-2 div.sk-parallel-item::after {content: \"\";width: 100%;border-bottom: 1px solid gray;flex-grow: 1;}#sk-container-id-2 div.sk-label:hover label.sk-toggleable__label {background-color: #d4ebff;}#sk-container-id-2 div.sk-serial::before {content: \"\";position: absolute;border-left: 1px solid gray;box-sizing: border-box;top: 0;bottom: 0;left: 50%;z-index: 0;}#sk-container-id-2 div.sk-serial {display: flex;flex-direction: column;align-items: center;background-color: white;padding-right: 0.2em;padding-left: 0.2em;position: relative;}#sk-container-id-2 div.sk-item {position: relative;z-index: 1;}#sk-container-id-2 div.sk-parallel {display: flex;align-items: stretch;justify-content: center;background-color: white;position: relative;}#sk-container-id-2 div.sk-item::before, #sk-container-id-2 div.sk-parallel-item::before {content: \"\";position: absolute;border-left: 1px solid gray;box-sizing: border-box;top: 0;bottom: 0;left: 50%;z-index: -1;}#sk-container-id-2 div.sk-parallel-item {display: flex;flex-direction: column;z-index: 1;position: relative;background-color: white;}#sk-container-id-2 div.sk-parallel-item:first-child::after {align-self: flex-end;width: 50%;}#sk-container-id-2 div.sk-parallel-item:last-child::after {align-self: flex-start;width: 50%;}#sk-container-id-2 div.sk-parallel-item:only-child::after {width: 0;}#sk-container-id-2 div.sk-dashed-wrapped {border: 1px dashed gray;margin: 0 0.4em 0.5em 0.4em;box-sizing: border-box;padding-bottom: 0.4em;background-color: white;}#sk-container-id-2 div.sk-label label {font-family: monospace;font-weight: bold;display: inline-block;line-height: 1.2em;}#sk-container-id-2 div.sk-label-container {text-align: center;}#sk-container-id-2 div.sk-container {/* jupyter's `normalize.less` sets `[hidden] { display: none; }` but bootstrap.min.css set `[hidden] { display: none !important; }` so we also need the `!important` here to be able to override the default hidden behavior on the sphinx rendered scikit-learn.org. See: https://github.com/scikit-learn/scikit-learn/issues/21755 */display: inline-block !important;position: relative;}#sk-container-id-2 div.sk-text-repr-fallback {display: none;}</style><div id=\"sk-container-id-2\" class=\"sk-top-container\"><div class=\"sk-text-repr-fallback\"><pre>SGDRegressor()</pre><b>In a Jupyter environment, please rerun this cell to show the HTML representation or trust the notebook. <br />On GitHub, the HTML representation is unable to render, please try loading this page with nbviewer.org.</b></div><div class=\"sk-container\" hidden><div class=\"sk-item\"><div class=\"sk-estimator sk-toggleable\"><input class=\"sk-toggleable__control sk-hidden--visually\" id=\"sk-estimator-id-2\" type=\"checkbox\" checked><label for=\"sk-estimator-id-2\" class=\"sk-toggleable__label sk-toggleable__label-arrow\">SGDRegressor</label><div class=\"sk-toggleable__content\"><pre>SGDRegressor()</pre></div></div></div></div></div>"
      ],
      "text/plain": [
       "SGDRegressor()"
      ]
     },
     "execution_count": 51,
     "metadata": {},
     "output_type": "execute_result"
    }
   ],
   "source": [
    "SGD.fit(x_train,y_train)"
   ]
  },
  {
   "cell_type": "code",
   "execution_count": 52,
   "id": "eec21a80",
   "metadata": {},
   "outputs": [
    {
     "data": {
      "text/plain": [
       "0.7549822537326738"
      ]
     },
     "execution_count": 52,
     "metadata": {},
     "output_type": "execute_result"
    }
   ],
   "source": [
    "SGD.score(x_train,y_train)"
   ]
  },
  {
   "cell_type": "code",
   "execution_count": 53,
   "id": "ea1e1654",
   "metadata": {},
   "outputs": [],
   "source": [
    "lasso=Lasso()"
   ]
  },
  {
   "cell_type": "code",
   "execution_count": 54,
   "id": "d1d99e36",
   "metadata": {},
   "outputs": [
    {
     "data": {
      "text/html": [
       "<style>#sk-container-id-3 {color: black;background-color: white;}#sk-container-id-3 pre{padding: 0;}#sk-container-id-3 div.sk-toggleable {background-color: white;}#sk-container-id-3 label.sk-toggleable__label {cursor: pointer;display: block;width: 100%;margin-bottom: 0;padding: 0.3em;box-sizing: border-box;text-align: center;}#sk-container-id-3 label.sk-toggleable__label-arrow:before {content: \"▸\";float: left;margin-right: 0.25em;color: #696969;}#sk-container-id-3 label.sk-toggleable__label-arrow:hover:before {color: black;}#sk-container-id-3 div.sk-estimator:hover label.sk-toggleable__label-arrow:before {color: black;}#sk-container-id-3 div.sk-toggleable__content {max-height: 0;max-width: 0;overflow: hidden;text-align: left;background-color: #f0f8ff;}#sk-container-id-3 div.sk-toggleable__content pre {margin: 0.2em;color: black;border-radius: 0.25em;background-color: #f0f8ff;}#sk-container-id-3 input.sk-toggleable__control:checked~div.sk-toggleable__content {max-height: 200px;max-width: 100%;overflow: auto;}#sk-container-id-3 input.sk-toggleable__control:checked~label.sk-toggleable__label-arrow:before {content: \"▾\";}#sk-container-id-3 div.sk-estimator input.sk-toggleable__control:checked~label.sk-toggleable__label {background-color: #d4ebff;}#sk-container-id-3 div.sk-label input.sk-toggleable__control:checked~label.sk-toggleable__label {background-color: #d4ebff;}#sk-container-id-3 input.sk-hidden--visually {border: 0;clip: rect(1px 1px 1px 1px);clip: rect(1px, 1px, 1px, 1px);height: 1px;margin: -1px;overflow: hidden;padding: 0;position: absolute;width: 1px;}#sk-container-id-3 div.sk-estimator {font-family: monospace;background-color: #f0f8ff;border: 1px dotted black;border-radius: 0.25em;box-sizing: border-box;margin-bottom: 0.5em;}#sk-container-id-3 div.sk-estimator:hover {background-color: #d4ebff;}#sk-container-id-3 div.sk-parallel-item::after {content: \"\";width: 100%;border-bottom: 1px solid gray;flex-grow: 1;}#sk-container-id-3 div.sk-label:hover label.sk-toggleable__label {background-color: #d4ebff;}#sk-container-id-3 div.sk-serial::before {content: \"\";position: absolute;border-left: 1px solid gray;box-sizing: border-box;top: 0;bottom: 0;left: 50%;z-index: 0;}#sk-container-id-3 div.sk-serial {display: flex;flex-direction: column;align-items: center;background-color: white;padding-right: 0.2em;padding-left: 0.2em;position: relative;}#sk-container-id-3 div.sk-item {position: relative;z-index: 1;}#sk-container-id-3 div.sk-parallel {display: flex;align-items: stretch;justify-content: center;background-color: white;position: relative;}#sk-container-id-3 div.sk-item::before, #sk-container-id-3 div.sk-parallel-item::before {content: \"\";position: absolute;border-left: 1px solid gray;box-sizing: border-box;top: 0;bottom: 0;left: 50%;z-index: -1;}#sk-container-id-3 div.sk-parallel-item {display: flex;flex-direction: column;z-index: 1;position: relative;background-color: white;}#sk-container-id-3 div.sk-parallel-item:first-child::after {align-self: flex-end;width: 50%;}#sk-container-id-3 div.sk-parallel-item:last-child::after {align-self: flex-start;width: 50%;}#sk-container-id-3 div.sk-parallel-item:only-child::after {width: 0;}#sk-container-id-3 div.sk-dashed-wrapped {border: 1px dashed gray;margin: 0 0.4em 0.5em 0.4em;box-sizing: border-box;padding-bottom: 0.4em;background-color: white;}#sk-container-id-3 div.sk-label label {font-family: monospace;font-weight: bold;display: inline-block;line-height: 1.2em;}#sk-container-id-3 div.sk-label-container {text-align: center;}#sk-container-id-3 div.sk-container {/* jupyter's `normalize.less` sets `[hidden] { display: none; }` but bootstrap.min.css set `[hidden] { display: none !important; }` so we also need the `!important` here to be able to override the default hidden behavior on the sphinx rendered scikit-learn.org. See: https://github.com/scikit-learn/scikit-learn/issues/21755 */display: inline-block !important;position: relative;}#sk-container-id-3 div.sk-text-repr-fallback {display: none;}</style><div id=\"sk-container-id-3\" class=\"sk-top-container\"><div class=\"sk-text-repr-fallback\"><pre>Lasso()</pre><b>In a Jupyter environment, please rerun this cell to show the HTML representation or trust the notebook. <br />On GitHub, the HTML representation is unable to render, please try loading this page with nbviewer.org.</b></div><div class=\"sk-container\" hidden><div class=\"sk-item\"><div class=\"sk-estimator sk-toggleable\"><input class=\"sk-toggleable__control sk-hidden--visually\" id=\"sk-estimator-id-3\" type=\"checkbox\" checked><label for=\"sk-estimator-id-3\" class=\"sk-toggleable__label sk-toggleable__label-arrow\">Lasso</label><div class=\"sk-toggleable__content\"><pre>Lasso()</pre></div></div></div></div></div>"
      ],
      "text/plain": [
       "Lasso()"
      ]
     },
     "execution_count": 54,
     "metadata": {},
     "output_type": "execute_result"
    }
   ],
   "source": [
    "lasso.fit(x_train,y_train)"
   ]
  },
  {
   "cell_type": "code",
   "execution_count": 55,
   "id": "1b566c37",
   "metadata": {},
   "outputs": [
    {
     "data": {
      "text/plain": [
       "0.7550026622254892"
      ]
     },
     "execution_count": 55,
     "metadata": {},
     "output_type": "execute_result"
    }
   ],
   "source": [
    "lasso.score(x_train,y_train)"
   ]
  },
  {
   "cell_type": "code",
   "execution_count": 56,
   "id": "907a971d",
   "metadata": {},
   "outputs": [],
   "source": [
    "rd=Ridge()"
   ]
  },
  {
   "cell_type": "code",
   "execution_count": 57,
   "id": "8838a816",
   "metadata": {},
   "outputs": [
    {
     "data": {
      "text/html": [
       "<style>#sk-container-id-4 {color: black;background-color: white;}#sk-container-id-4 pre{padding: 0;}#sk-container-id-4 div.sk-toggleable {background-color: white;}#sk-container-id-4 label.sk-toggleable__label {cursor: pointer;display: block;width: 100%;margin-bottom: 0;padding: 0.3em;box-sizing: border-box;text-align: center;}#sk-container-id-4 label.sk-toggleable__label-arrow:before {content: \"▸\";float: left;margin-right: 0.25em;color: #696969;}#sk-container-id-4 label.sk-toggleable__label-arrow:hover:before {color: black;}#sk-container-id-4 div.sk-estimator:hover label.sk-toggleable__label-arrow:before {color: black;}#sk-container-id-4 div.sk-toggleable__content {max-height: 0;max-width: 0;overflow: hidden;text-align: left;background-color: #f0f8ff;}#sk-container-id-4 div.sk-toggleable__content pre {margin: 0.2em;color: black;border-radius: 0.25em;background-color: #f0f8ff;}#sk-container-id-4 input.sk-toggleable__control:checked~div.sk-toggleable__content {max-height: 200px;max-width: 100%;overflow: auto;}#sk-container-id-4 input.sk-toggleable__control:checked~label.sk-toggleable__label-arrow:before {content: \"▾\";}#sk-container-id-4 div.sk-estimator input.sk-toggleable__control:checked~label.sk-toggleable__label {background-color: #d4ebff;}#sk-container-id-4 div.sk-label input.sk-toggleable__control:checked~label.sk-toggleable__label {background-color: #d4ebff;}#sk-container-id-4 input.sk-hidden--visually {border: 0;clip: rect(1px 1px 1px 1px);clip: rect(1px, 1px, 1px, 1px);height: 1px;margin: -1px;overflow: hidden;padding: 0;position: absolute;width: 1px;}#sk-container-id-4 div.sk-estimator {font-family: monospace;background-color: #f0f8ff;border: 1px dotted black;border-radius: 0.25em;box-sizing: border-box;margin-bottom: 0.5em;}#sk-container-id-4 div.sk-estimator:hover {background-color: #d4ebff;}#sk-container-id-4 div.sk-parallel-item::after {content: \"\";width: 100%;border-bottom: 1px solid gray;flex-grow: 1;}#sk-container-id-4 div.sk-label:hover label.sk-toggleable__label {background-color: #d4ebff;}#sk-container-id-4 div.sk-serial::before {content: \"\";position: absolute;border-left: 1px solid gray;box-sizing: border-box;top: 0;bottom: 0;left: 50%;z-index: 0;}#sk-container-id-4 div.sk-serial {display: flex;flex-direction: column;align-items: center;background-color: white;padding-right: 0.2em;padding-left: 0.2em;position: relative;}#sk-container-id-4 div.sk-item {position: relative;z-index: 1;}#sk-container-id-4 div.sk-parallel {display: flex;align-items: stretch;justify-content: center;background-color: white;position: relative;}#sk-container-id-4 div.sk-item::before, #sk-container-id-4 div.sk-parallel-item::before {content: \"\";position: absolute;border-left: 1px solid gray;box-sizing: border-box;top: 0;bottom: 0;left: 50%;z-index: -1;}#sk-container-id-4 div.sk-parallel-item {display: flex;flex-direction: column;z-index: 1;position: relative;background-color: white;}#sk-container-id-4 div.sk-parallel-item:first-child::after {align-self: flex-end;width: 50%;}#sk-container-id-4 div.sk-parallel-item:last-child::after {align-self: flex-start;width: 50%;}#sk-container-id-4 div.sk-parallel-item:only-child::after {width: 0;}#sk-container-id-4 div.sk-dashed-wrapped {border: 1px dashed gray;margin: 0 0.4em 0.5em 0.4em;box-sizing: border-box;padding-bottom: 0.4em;background-color: white;}#sk-container-id-4 div.sk-label label {font-family: monospace;font-weight: bold;display: inline-block;line-height: 1.2em;}#sk-container-id-4 div.sk-label-container {text-align: center;}#sk-container-id-4 div.sk-container {/* jupyter's `normalize.less` sets `[hidden] { display: none; }` but bootstrap.min.css set `[hidden] { display: none !important; }` so we also need the `!important` here to be able to override the default hidden behavior on the sphinx rendered scikit-learn.org. See: https://github.com/scikit-learn/scikit-learn/issues/21755 */display: inline-block !important;position: relative;}#sk-container-id-4 div.sk-text-repr-fallback {display: none;}</style><div id=\"sk-container-id-4\" class=\"sk-top-container\"><div class=\"sk-text-repr-fallback\"><pre>Ridge()</pre><b>In a Jupyter environment, please rerun this cell to show the HTML representation or trust the notebook. <br />On GitHub, the HTML representation is unable to render, please try loading this page with nbviewer.org.</b></div><div class=\"sk-container\" hidden><div class=\"sk-item\"><div class=\"sk-estimator sk-toggleable\"><input class=\"sk-toggleable__control sk-hidden--visually\" id=\"sk-estimator-id-4\" type=\"checkbox\" checked><label for=\"sk-estimator-id-4\" class=\"sk-toggleable__label sk-toggleable__label-arrow\">Ridge</label><div class=\"sk-toggleable__content\"><pre>Ridge()</pre></div></div></div></div></div>"
      ],
      "text/plain": [
       "Ridge()"
      ]
     },
     "execution_count": 57,
     "metadata": {},
     "output_type": "execute_result"
    }
   ],
   "source": [
    "rd.fit(x_train,y_train)"
   ]
  },
  {
   "cell_type": "code",
   "execution_count": 58,
   "id": "de9b9841",
   "metadata": {},
   "outputs": [
    {
     "data": {
      "text/plain": [
       "0.7550019084421508"
      ]
     },
     "execution_count": 58,
     "metadata": {},
     "output_type": "execute_result"
    }
   ],
   "source": [
    "rd.score(x_train,y_train)"
   ]
  },
  {
   "cell_type": "code",
   "execution_count": 59,
   "id": "2176a5fa",
   "metadata": {},
   "outputs": [],
   "source": [
    "el=ElasticNet()"
   ]
  },
  {
   "cell_type": "code",
   "execution_count": 60,
   "id": "cd116560",
   "metadata": {},
   "outputs": [
    {
     "data": {
      "text/html": [
       "<style>#sk-container-id-5 {color: black;background-color: white;}#sk-container-id-5 pre{padding: 0;}#sk-container-id-5 div.sk-toggleable {background-color: white;}#sk-container-id-5 label.sk-toggleable__label {cursor: pointer;display: block;width: 100%;margin-bottom: 0;padding: 0.3em;box-sizing: border-box;text-align: center;}#sk-container-id-5 label.sk-toggleable__label-arrow:before {content: \"▸\";float: left;margin-right: 0.25em;color: #696969;}#sk-container-id-5 label.sk-toggleable__label-arrow:hover:before {color: black;}#sk-container-id-5 div.sk-estimator:hover label.sk-toggleable__label-arrow:before {color: black;}#sk-container-id-5 div.sk-toggleable__content {max-height: 0;max-width: 0;overflow: hidden;text-align: left;background-color: #f0f8ff;}#sk-container-id-5 div.sk-toggleable__content pre {margin: 0.2em;color: black;border-radius: 0.25em;background-color: #f0f8ff;}#sk-container-id-5 input.sk-toggleable__control:checked~div.sk-toggleable__content {max-height: 200px;max-width: 100%;overflow: auto;}#sk-container-id-5 input.sk-toggleable__control:checked~label.sk-toggleable__label-arrow:before {content: \"▾\";}#sk-container-id-5 div.sk-estimator input.sk-toggleable__control:checked~label.sk-toggleable__label {background-color: #d4ebff;}#sk-container-id-5 div.sk-label input.sk-toggleable__control:checked~label.sk-toggleable__label {background-color: #d4ebff;}#sk-container-id-5 input.sk-hidden--visually {border: 0;clip: rect(1px 1px 1px 1px);clip: rect(1px, 1px, 1px, 1px);height: 1px;margin: -1px;overflow: hidden;padding: 0;position: absolute;width: 1px;}#sk-container-id-5 div.sk-estimator {font-family: monospace;background-color: #f0f8ff;border: 1px dotted black;border-radius: 0.25em;box-sizing: border-box;margin-bottom: 0.5em;}#sk-container-id-5 div.sk-estimator:hover {background-color: #d4ebff;}#sk-container-id-5 div.sk-parallel-item::after {content: \"\";width: 100%;border-bottom: 1px solid gray;flex-grow: 1;}#sk-container-id-5 div.sk-label:hover label.sk-toggleable__label {background-color: #d4ebff;}#sk-container-id-5 div.sk-serial::before {content: \"\";position: absolute;border-left: 1px solid gray;box-sizing: border-box;top: 0;bottom: 0;left: 50%;z-index: 0;}#sk-container-id-5 div.sk-serial {display: flex;flex-direction: column;align-items: center;background-color: white;padding-right: 0.2em;padding-left: 0.2em;position: relative;}#sk-container-id-5 div.sk-item {position: relative;z-index: 1;}#sk-container-id-5 div.sk-parallel {display: flex;align-items: stretch;justify-content: center;background-color: white;position: relative;}#sk-container-id-5 div.sk-item::before, #sk-container-id-5 div.sk-parallel-item::before {content: \"\";position: absolute;border-left: 1px solid gray;box-sizing: border-box;top: 0;bottom: 0;left: 50%;z-index: -1;}#sk-container-id-5 div.sk-parallel-item {display: flex;flex-direction: column;z-index: 1;position: relative;background-color: white;}#sk-container-id-5 div.sk-parallel-item:first-child::after {align-self: flex-end;width: 50%;}#sk-container-id-5 div.sk-parallel-item:last-child::after {align-self: flex-start;width: 50%;}#sk-container-id-5 div.sk-parallel-item:only-child::after {width: 0;}#sk-container-id-5 div.sk-dashed-wrapped {border: 1px dashed gray;margin: 0 0.4em 0.5em 0.4em;box-sizing: border-box;padding-bottom: 0.4em;background-color: white;}#sk-container-id-5 div.sk-label label {font-family: monospace;font-weight: bold;display: inline-block;line-height: 1.2em;}#sk-container-id-5 div.sk-label-container {text-align: center;}#sk-container-id-5 div.sk-container {/* jupyter's `normalize.less` sets `[hidden] { display: none; }` but bootstrap.min.css set `[hidden] { display: none !important; }` so we also need the `!important` here to be able to override the default hidden behavior on the sphinx rendered scikit-learn.org. See: https://github.com/scikit-learn/scikit-learn/issues/21755 */display: inline-block !important;position: relative;}#sk-container-id-5 div.sk-text-repr-fallback {display: none;}</style><div id=\"sk-container-id-5\" class=\"sk-top-container\"><div class=\"sk-text-repr-fallback\"><pre>ElasticNet()</pre><b>In a Jupyter environment, please rerun this cell to show the HTML representation or trust the notebook. <br />On GitHub, the HTML representation is unable to render, please try loading this page with nbviewer.org.</b></div><div class=\"sk-container\" hidden><div class=\"sk-item\"><div class=\"sk-estimator sk-toggleable\"><input class=\"sk-toggleable__control sk-hidden--visually\" id=\"sk-estimator-id-5\" type=\"checkbox\" checked><label for=\"sk-estimator-id-5\" class=\"sk-toggleable__label sk-toggleable__label-arrow\">ElasticNet</label><div class=\"sk-toggleable__content\"><pre>ElasticNet()</pre></div></div></div></div></div>"
      ],
      "text/plain": [
       "ElasticNet()"
      ]
     },
     "execution_count": 60,
     "metadata": {},
     "output_type": "execute_result"
    }
   ],
   "source": [
    "el.fit(x_train,y_train)"
   ]
  },
  {
   "cell_type": "code",
   "execution_count": 61,
   "id": "d25f78d3",
   "metadata": {},
   "outputs": [
    {
     "data": {
      "text/plain": [
       "0.6709438557346388"
      ]
     },
     "execution_count": 61,
     "metadata": {},
     "output_type": "execute_result"
    }
   ],
   "source": [
    "el.score(x_train,y_train)"
   ]
  },
  {
   "cell_type": "code",
   "execution_count": 62,
   "id": "67481d3c",
   "metadata": {},
   "outputs": [],
   "source": [
    "from sklearn.svm import SVR\n",
    "from sklearn.tree import DecisionTreeRegressor\n",
    "from sklearn.neighbors import KNeighborsRegressor"
   ]
  },
  {
   "cell_type": "code",
   "execution_count": 63,
   "id": "3bdb9865",
   "metadata": {},
   "outputs": [],
   "source": [
    "svr=SVR()"
   ]
  },
  {
   "cell_type": "code",
   "execution_count": 64,
   "id": "d475c0ce",
   "metadata": {},
   "outputs": [
    {
     "data": {
      "text/html": [
       "<style>#sk-container-id-6 {color: black;background-color: white;}#sk-container-id-6 pre{padding: 0;}#sk-container-id-6 div.sk-toggleable {background-color: white;}#sk-container-id-6 label.sk-toggleable__label {cursor: pointer;display: block;width: 100%;margin-bottom: 0;padding: 0.3em;box-sizing: border-box;text-align: center;}#sk-container-id-6 label.sk-toggleable__label-arrow:before {content: \"▸\";float: left;margin-right: 0.25em;color: #696969;}#sk-container-id-6 label.sk-toggleable__label-arrow:hover:before {color: black;}#sk-container-id-6 div.sk-estimator:hover label.sk-toggleable__label-arrow:before {color: black;}#sk-container-id-6 div.sk-toggleable__content {max-height: 0;max-width: 0;overflow: hidden;text-align: left;background-color: #f0f8ff;}#sk-container-id-6 div.sk-toggleable__content pre {margin: 0.2em;color: black;border-radius: 0.25em;background-color: #f0f8ff;}#sk-container-id-6 input.sk-toggleable__control:checked~div.sk-toggleable__content {max-height: 200px;max-width: 100%;overflow: auto;}#sk-container-id-6 input.sk-toggleable__control:checked~label.sk-toggleable__label-arrow:before {content: \"▾\";}#sk-container-id-6 div.sk-estimator input.sk-toggleable__control:checked~label.sk-toggleable__label {background-color: #d4ebff;}#sk-container-id-6 div.sk-label input.sk-toggleable__control:checked~label.sk-toggleable__label {background-color: #d4ebff;}#sk-container-id-6 input.sk-hidden--visually {border: 0;clip: rect(1px 1px 1px 1px);clip: rect(1px, 1px, 1px, 1px);height: 1px;margin: -1px;overflow: hidden;padding: 0;position: absolute;width: 1px;}#sk-container-id-6 div.sk-estimator {font-family: monospace;background-color: #f0f8ff;border: 1px dotted black;border-radius: 0.25em;box-sizing: border-box;margin-bottom: 0.5em;}#sk-container-id-6 div.sk-estimator:hover {background-color: #d4ebff;}#sk-container-id-6 div.sk-parallel-item::after {content: \"\";width: 100%;border-bottom: 1px solid gray;flex-grow: 1;}#sk-container-id-6 div.sk-label:hover label.sk-toggleable__label {background-color: #d4ebff;}#sk-container-id-6 div.sk-serial::before {content: \"\";position: absolute;border-left: 1px solid gray;box-sizing: border-box;top: 0;bottom: 0;left: 50%;z-index: 0;}#sk-container-id-6 div.sk-serial {display: flex;flex-direction: column;align-items: center;background-color: white;padding-right: 0.2em;padding-left: 0.2em;position: relative;}#sk-container-id-6 div.sk-item {position: relative;z-index: 1;}#sk-container-id-6 div.sk-parallel {display: flex;align-items: stretch;justify-content: center;background-color: white;position: relative;}#sk-container-id-6 div.sk-item::before, #sk-container-id-6 div.sk-parallel-item::before {content: \"\";position: absolute;border-left: 1px solid gray;box-sizing: border-box;top: 0;bottom: 0;left: 50%;z-index: -1;}#sk-container-id-6 div.sk-parallel-item {display: flex;flex-direction: column;z-index: 1;position: relative;background-color: white;}#sk-container-id-6 div.sk-parallel-item:first-child::after {align-self: flex-end;width: 50%;}#sk-container-id-6 div.sk-parallel-item:last-child::after {align-self: flex-start;width: 50%;}#sk-container-id-6 div.sk-parallel-item:only-child::after {width: 0;}#sk-container-id-6 div.sk-dashed-wrapped {border: 1px dashed gray;margin: 0 0.4em 0.5em 0.4em;box-sizing: border-box;padding-bottom: 0.4em;background-color: white;}#sk-container-id-6 div.sk-label label {font-family: monospace;font-weight: bold;display: inline-block;line-height: 1.2em;}#sk-container-id-6 div.sk-label-container {text-align: center;}#sk-container-id-6 div.sk-container {/* jupyter's `normalize.less` sets `[hidden] { display: none; }` but bootstrap.min.css set `[hidden] { display: none !important; }` so we also need the `!important` here to be able to override the default hidden behavior on the sphinx rendered scikit-learn.org. See: https://github.com/scikit-learn/scikit-learn/issues/21755 */display: inline-block !important;position: relative;}#sk-container-id-6 div.sk-text-repr-fallback {display: none;}</style><div id=\"sk-container-id-6\" class=\"sk-top-container\"><div class=\"sk-text-repr-fallback\"><pre>SVR()</pre><b>In a Jupyter environment, please rerun this cell to show the HTML representation or trust the notebook. <br />On GitHub, the HTML representation is unable to render, please try loading this page with nbviewer.org.</b></div><div class=\"sk-container\" hidden><div class=\"sk-item\"><div class=\"sk-estimator sk-toggleable\"><input class=\"sk-toggleable__control sk-hidden--visually\" id=\"sk-estimator-id-6\" type=\"checkbox\" checked><label for=\"sk-estimator-id-6\" class=\"sk-toggleable__label sk-toggleable__label-arrow\">SVR</label><div class=\"sk-toggleable__content\"><pre>SVR()</pre></div></div></div></div></div>"
      ],
      "text/plain": [
       "SVR()"
      ]
     },
     "execution_count": 64,
     "metadata": {},
     "output_type": "execute_result"
    }
   ],
   "source": [
    "svr.fit(x_train,y_train)"
   ]
  },
  {
   "cell_type": "code",
   "execution_count": 65,
   "id": "91f9b79e",
   "metadata": {},
   "outputs": [
    {
     "data": {
      "text/plain": [
       "-0.09311292112126002"
      ]
     },
     "execution_count": 65,
     "metadata": {},
     "output_type": "execute_result"
    }
   ],
   "source": [
    "svr.score(x_train,y_train)"
   ]
  },
  {
   "cell_type": "code",
   "execution_count": 66,
   "id": "f0c2a536",
   "metadata": {},
   "outputs": [],
   "source": [
    "dtr=DecisionTreeRegressor()"
   ]
  },
  {
   "cell_type": "code",
   "execution_count": 67,
   "id": "c94526d0",
   "metadata": {},
   "outputs": [
    {
     "data": {
      "text/html": [
       "<style>#sk-container-id-7 {color: black;background-color: white;}#sk-container-id-7 pre{padding: 0;}#sk-container-id-7 div.sk-toggleable {background-color: white;}#sk-container-id-7 label.sk-toggleable__label {cursor: pointer;display: block;width: 100%;margin-bottom: 0;padding: 0.3em;box-sizing: border-box;text-align: center;}#sk-container-id-7 label.sk-toggleable__label-arrow:before {content: \"▸\";float: left;margin-right: 0.25em;color: #696969;}#sk-container-id-7 label.sk-toggleable__label-arrow:hover:before {color: black;}#sk-container-id-7 div.sk-estimator:hover label.sk-toggleable__label-arrow:before {color: black;}#sk-container-id-7 div.sk-toggleable__content {max-height: 0;max-width: 0;overflow: hidden;text-align: left;background-color: #f0f8ff;}#sk-container-id-7 div.sk-toggleable__content pre {margin: 0.2em;color: black;border-radius: 0.25em;background-color: #f0f8ff;}#sk-container-id-7 input.sk-toggleable__control:checked~div.sk-toggleable__content {max-height: 200px;max-width: 100%;overflow: auto;}#sk-container-id-7 input.sk-toggleable__control:checked~label.sk-toggleable__label-arrow:before {content: \"▾\";}#sk-container-id-7 div.sk-estimator input.sk-toggleable__control:checked~label.sk-toggleable__label {background-color: #d4ebff;}#sk-container-id-7 div.sk-label input.sk-toggleable__control:checked~label.sk-toggleable__label {background-color: #d4ebff;}#sk-container-id-7 input.sk-hidden--visually {border: 0;clip: rect(1px 1px 1px 1px);clip: rect(1px, 1px, 1px, 1px);height: 1px;margin: -1px;overflow: hidden;padding: 0;position: absolute;width: 1px;}#sk-container-id-7 div.sk-estimator {font-family: monospace;background-color: #f0f8ff;border: 1px dotted black;border-radius: 0.25em;box-sizing: border-box;margin-bottom: 0.5em;}#sk-container-id-7 div.sk-estimator:hover {background-color: #d4ebff;}#sk-container-id-7 div.sk-parallel-item::after {content: \"\";width: 100%;border-bottom: 1px solid gray;flex-grow: 1;}#sk-container-id-7 div.sk-label:hover label.sk-toggleable__label {background-color: #d4ebff;}#sk-container-id-7 div.sk-serial::before {content: \"\";position: absolute;border-left: 1px solid gray;box-sizing: border-box;top: 0;bottom: 0;left: 50%;z-index: 0;}#sk-container-id-7 div.sk-serial {display: flex;flex-direction: column;align-items: center;background-color: white;padding-right: 0.2em;padding-left: 0.2em;position: relative;}#sk-container-id-7 div.sk-item {position: relative;z-index: 1;}#sk-container-id-7 div.sk-parallel {display: flex;align-items: stretch;justify-content: center;background-color: white;position: relative;}#sk-container-id-7 div.sk-item::before, #sk-container-id-7 div.sk-parallel-item::before {content: \"\";position: absolute;border-left: 1px solid gray;box-sizing: border-box;top: 0;bottom: 0;left: 50%;z-index: -1;}#sk-container-id-7 div.sk-parallel-item {display: flex;flex-direction: column;z-index: 1;position: relative;background-color: white;}#sk-container-id-7 div.sk-parallel-item:first-child::after {align-self: flex-end;width: 50%;}#sk-container-id-7 div.sk-parallel-item:last-child::after {align-self: flex-start;width: 50%;}#sk-container-id-7 div.sk-parallel-item:only-child::after {width: 0;}#sk-container-id-7 div.sk-dashed-wrapped {border: 1px dashed gray;margin: 0 0.4em 0.5em 0.4em;box-sizing: border-box;padding-bottom: 0.4em;background-color: white;}#sk-container-id-7 div.sk-label label {font-family: monospace;font-weight: bold;display: inline-block;line-height: 1.2em;}#sk-container-id-7 div.sk-label-container {text-align: center;}#sk-container-id-7 div.sk-container {/* jupyter's `normalize.less` sets `[hidden] { display: none; }` but bootstrap.min.css set `[hidden] { display: none !important; }` so we also need the `!important` here to be able to override the default hidden behavior on the sphinx rendered scikit-learn.org. See: https://github.com/scikit-learn/scikit-learn/issues/21755 */display: inline-block !important;position: relative;}#sk-container-id-7 div.sk-text-repr-fallback {display: none;}</style><div id=\"sk-container-id-7\" class=\"sk-top-container\"><div class=\"sk-text-repr-fallback\"><pre>DecisionTreeRegressor()</pre><b>In a Jupyter environment, please rerun this cell to show the HTML representation or trust the notebook. <br />On GitHub, the HTML representation is unable to render, please try loading this page with nbviewer.org.</b></div><div class=\"sk-container\" hidden><div class=\"sk-item\"><div class=\"sk-estimator sk-toggleable\"><input class=\"sk-toggleable__control sk-hidden--visually\" id=\"sk-estimator-id-7\" type=\"checkbox\" checked><label for=\"sk-estimator-id-7\" class=\"sk-toggleable__label sk-toggleable__label-arrow\">DecisionTreeRegressor</label><div class=\"sk-toggleable__content\"><pre>DecisionTreeRegressor()</pre></div></div></div></div></div>"
      ],
      "text/plain": [
       "DecisionTreeRegressor()"
      ]
     },
     "execution_count": 67,
     "metadata": {},
     "output_type": "execute_result"
    }
   ],
   "source": [
    "dtr.fit(x_train,y_train)"
   ]
  },
  {
   "cell_type": "code",
   "execution_count": 68,
   "id": "573d6792",
   "metadata": {},
   "outputs": [
    {
     "data": {
      "text/plain": [
       "0.9994202724034231"
      ]
     },
     "execution_count": 68,
     "metadata": {},
     "output_type": "execute_result"
    }
   ],
   "source": [
    "dtr.score(x_train,y_train)"
   ]
  },
  {
   "cell_type": "code",
   "execution_count": 69,
   "id": "0f72f9af",
   "metadata": {},
   "outputs": [],
   "source": [
    "knn=KNeighborsRegressor()"
   ]
  },
  {
   "cell_type": "code",
   "execution_count": 70,
   "id": "c1e867b0",
   "metadata": {},
   "outputs": [
    {
     "data": {
      "text/plain": [
       "0.8743382757187952"
      ]
     },
     "execution_count": 70,
     "metadata": {},
     "output_type": "execute_result"
    }
   ],
   "source": [
    "knn.fit(x_train,y_train)\n",
    "knn.score(x_train,y_train)"
   ]
  },
  {
   "cell_type": "code",
   "execution_count": 72,
   "id": "b4f2cc49",
   "metadata": {},
   "outputs": [],
   "source": [
    "dtrpred=dtr.predict(x_test)"
   ]
  },
  {
   "cell_type": "code",
   "execution_count": 74,
   "id": "42b2c891",
   "metadata": {},
   "outputs": [
    {
     "name": "stdout",
     "output_type": "stream",
     "text": [
      "0.6955772460868177\n"
     ]
    }
   ],
   "source": [
    "print(r2_score(y_test,dtrpred))"
   ]
  },
  {
   "cell_type": "code",
   "execution_count": 75,
   "id": "360b2cc8",
   "metadata": {},
   "outputs": [
    {
     "name": "stdout",
     "output_type": "stream",
     "text": [
      "3039.8381891463414\n"
     ]
    }
   ],
   "source": [
    "print(mean_absolute_error(y_test,dtrpred))"
   ]
  },
  {
   "cell_type": "code",
   "execution_count": 76,
   "id": "59dbe69f",
   "metadata": {},
   "outputs": [
    {
     "data": {
      "text/plain": [
       "array([11150.78   ,  2322.6218 ,  1704.5681 ,  3490.5491 ,  1261.442  ,\n",
       "        5979.731  , 41034.2214 , 13937.6665 , 12982.8747 , 12950.0712 ,\n",
       "       47291.055  , 12646.207  , 22493.65964,  6250.435  , 24873.3849 ,\n",
       "       12333.828  ,  4673.3922 , 18804.7524 , 36189.1017 , 11987.1682 ,\n",
       "        5972.378  , 11150.78   , 39836.519  , 18806.14547,  2055.3249 ,\n",
       "        3279.86855, 46889.2612 ,  1704.5681 ,  1532.4697 , 10493.9458 ,\n",
       "        1261.442  ,  6082.405  , 11840.77505,  2643.2685 ,  5125.2157 ,\n",
       "       13047.33235, 18310.742  ,  2201.0971 ,  4137.5227 ,  2205.9808 ,\n",
       "        7640.3092 ,  2150.469  ,  7160.094  ,  9869.8102 , 11848.141  ,\n",
       "       10601.63225,  8062.764  ,  9386.1613 ,  5662.225  , 24915.04626,\n",
       "       10795.93733, 18806.14547, 32734.1863 , 11566.30055, 25517.11363,\n",
       "       11884.04858,  3943.5954 ,  8413.46305, 16069.08475,  1877.9294 ,\n",
       "       41919.097  ,  2459.7201 ,  9182.17   ,  5148.5526 , 19214.70553,\n",
       "        1728.897  ,  1137.011  , 41919.097  ,  1261.442  , 26125.67477,\n",
       "       14692.66935,  6123.5688 , 34254.05335, 10825.2537 ,  7209.4918 ,\n",
       "       38709.176  , 42211.1382 ,  8835.26495,  3972.9247 ,  9182.17   ,\n",
       "        9144.565  , 38709.176  , 11833.7823 ,  7348.142  ,  6770.1925 ,\n",
       "       11411.685  ,  3875.7341 , 39611.7577 ,  1137.011  ,  3591.48   ,\n",
       "       11015.1747 ,  4133.64165, 28923.13692,  3877.30425,  2137.6536 ,\n",
       "       14210.53595,  3943.5954 , 10704.47   ,  8671.19125, 16776.30405,\n",
       "       13204.28565, 11305.93455, 15359.1045 , 18903.49141, 18804.7524 ,\n",
       "        4795.6568 ,  6082.405  ,  1725.5523 ,  6238.298  , 11554.2236 ,\n",
       "       13919.8229 , 13462.52   , 28950.4692 , 22331.5668 , 21774.32215,\n",
       "       18648.4217 , 18903.49141,  4005.4225 ,  8428.0693 , 12495.29085,\n",
       "       37829.7242 , 18310.742  , 11356.6609 , 12949.1554 ,  3579.8287 ,\n",
       "        8302.53565,  1632.56445, 47462.894  , 16085.1275 ,  9722.7695 ,\n",
       "       27037.9141 ,  9225.2564 ,  7358.17565,  2128.43105, 18767.7377 ,\n",
       "       30166.61817,  3947.4131 ,  9991.03765,  4837.5823 , 47291.055  ,\n",
       "        9225.2564 ,  2045.68525,  4571.41305,  3579.8287 , 10923.9332 ,\n",
       "        3556.9223 ,  6571.02435,  6593.5083 , 12233.828  , 48885.13561,\n",
       "        2497.0383 , 15828.82173,  3180.5101 ,  9630.397  ,  1759.338  ,\n",
       "       13919.8229 ,  5152.134  , 13844.506  ,  1981.5819 ,  6985.50695,\n",
       "        9447.3824 , 16069.08475, 12609.88702,  4544.2348 ,  8116.26885,\n",
       "        5425.02335, 21984.47061, 19350.3689 ,  1261.442  ,  5354.07465,\n",
       "        5152.134  , 46718.16325,  1261.442  ,  1815.8759 , 37829.7242 ,\n",
       "        9301.89355,  2902.9065 , 18259.216  ,  4646.759  ,  6571.02435,\n",
       "        7201.70085,  1261.859  ,  3385.39915, 19350.3689 , 14001.2867 ,\n",
       "        1621.8827 ,  7162.0122 ,  1815.8759 ,  5976.8311 , 32548.3405 ,\n",
       "        9800.8882 ,  4433.9159 , 42560.4304 ,  8603.8234 ,  4185.0979 ,\n",
       "        3704.3545 ,  8233.0975 ,  2464.6188 ,  8252.2843 , 12129.61415,\n",
       "        9182.17   , 38344.566  ,  1639.5631 ,  5438.7491 , 23306.547  ,\n",
       "       11534.87265,  2055.3249 , 15019.76005,  8688.85885,  8277.523  ,\n",
       "       19040.876  , 10928.849  , 12609.88702,  2205.9808 ,  9563.029  ,\n",
       "        7640.3092 ,  4435.0942 ,  8334.5896 , 12741.16745, 36307.7983 ,\n",
       "       16138.76205,  1633.0444 ,  3994.1778 , 13880.949  , 13204.28565,\n",
       "       32734.1863 , 10791.96   , 37484.4493 ,  2457.502  ,  4137.5227 ,\n",
       "       10797.3362 , 11073.176  ,  9290.1395 , 47496.49445, 10602.385  ,\n",
       "       11554.2236 ,  6184.2994 ,  4544.2348 ,  7526.70645,  3877.30425,\n",
       "       19964.7463 ,  2459.7201 , 27346.04207, 12495.29085, 18838.70366,\n",
       "        6186.127  , 11879.10405,  2362.22905,  6858.4796 , 33471.97189,\n",
       "       13981.85035,  5920.1041 , 34779.615  , 12146.971  , 12404.8791 ,\n",
       "       13974.45555, 24520.264  ,  2902.9065 ,  5354.07465, 26926.5144 ,\n",
       "        7151.092  , 14235.072  ,  4076.497  ,  1621.8827 ,  9630.397  ,\n",
       "        7371.772  ,  4433.9159 ,  6186.127  ,  8280.6227 , 43921.1837 ,\n",
       "       32108.66282, 11286.5387 , 18157.876  ,  1131.5066 ,  1877.9294 ,\n",
       "        4529.477  , 44423.803  ,  6875.961  , 23568.272  ,  5261.46945,\n",
       "       41034.2214 , 18218.16139, 38709.176  ,  1615.7667 ,  2527.81865,\n",
       "        5246.047  ,  9630.397  , 11658.11505,  3366.6697 ,  5976.8311 ,\n",
       "        2459.7201 ,  9225.2564 , 21978.6769 , 13887.204  , 24869.8368 ,\n",
       "        8023.13545, 34779.615  , 14043.4767 ,  3353.284  ,  7935.29115,\n",
       "        9101.798  , 41034.2214 , 24227.33724,  8782.469  ,  3484.331  ,\n",
       "       10923.9332 , 15828.82173,  1704.5681 ,  1628.4709 , 10797.3362 ,\n",
       "       11286.5387 ,  5354.07465,  4151.0287 ,  9182.17   ,  3176.8159 ,\n",
       "       22462.04375, 26140.3603 , 18806.14547, 47403.88   ,  5377.4578 ,\n",
       "        3046.062  ,  2709.1119 ,  4883.866  , 30166.61817, 47055.5321 ,\n",
       "        4529.477  , 18223.4512 , 36898.73308])"
      ]
     },
     "execution_count": 76,
     "metadata": {},
     "output_type": "execute_result"
    }
   ],
   "source": [
    "dtrpred"
   ]
  },
  {
   "cell_type": "code",
   "execution_count": 77,
   "id": "1193c60d",
   "metadata": {},
   "outputs": [
    {
     "data": {
      "text/plain": [
       "72      11741.72600\n",
       "37       2302.30000\n",
       "1212     1702.45530\n",
       "906      4846.92015\n",
       "430     23082.95533\n",
       "           ...     \n",
       "1068    14349.85440\n",
       "421     46599.10840\n",
       "555      3847.67400\n",
       "494     17942.10600\n",
       "1001    34472.84100\n",
       "Name: charges, Length: 328, dtype: float64"
      ]
     },
     "execution_count": 77,
     "metadata": {},
     "output_type": "execute_result"
    }
   ],
   "source": [
    "y_test"
   ]
  },
  {
   "cell_type": "code",
   "execution_count": 92,
   "id": "42d4b91b",
   "metadata": {},
   "outputs": [
    {
     "data": {
      "text/plain": [
       "array([ 4237.12655 ,  2899.48935 ,  2457.502   ,  2855.43755 ,\n",
       "        7201.70085 , 11729.6795  ,  2902.9065  , 23401.30575 ,\n",
       "       39727.614   , 11073.176   ,  2156.7518  ,  8428.0693  ,\n",
       "       26467.09737 , 19040.876   ,  4883.866   ,  1984.4533  ,\n",
       "        9704.66805 , 11356.6609  , 17468.9839  ,  2007.945   ,\n",
       "        3994.1778  , 16115.3045  , 28868.6639  ,  1748.774   ,\n",
       "        3972.9247  ,  7882.429475,  2045.68525 ,  3597.596   ,\n",
       "        8342.90875 ,  5152.134   ,  9620.3307  ,  7804.1605  ,\n",
       "        4762.329   , 10197.7722  ,  6548.19505 ,  3947.4131  ,\n",
       "       13429.0354  ,  3176.8159  ,  3366.6697  ,  2261.5688  ,\n",
       "       39725.51805 , 39241.442   ,  1837.237   , 11848.141   ,\n",
       "       13470.86    ,  1261.859   ,  6770.1925  ,  5002.7827  ,\n",
       "       41676.0811  , 47291.055   ,  2416.955   ,  6600.361   ,\n",
       "        8516.829   , 10982.5013  , 10370.91255 ,  9850.432   ,\n",
       "        5855.9025  ,  2221.56445 ,  1759.338   , 12979.358   ,\n",
       "        3070.8087  ,  7421.19455 , 26392.26029 , 44585.45587 ,\n",
       "       27724.28875 ,  3021.80915 ,  6067.12675 ,  9182.17    ,\n",
       "       47269.854   , 14451.83515 , 10141.1362  , 11737.84884 ,\n",
       "        6113.23105 , 11840.77505 , 36085.219   ,  1682.597   ,\n",
       "        8798.593   , 47462.894   ,  4058.71245 , 16232.847   ,\n",
       "        2217.6012  ,  8027.968   ,  7325.0482  ,  1731.677   ,\n",
       "        8219.2039  , 33307.5508  ,  7729.64575 , 20177.67113 ,\n",
       "        9411.005   , 21348.706   ,  8823.279   , 37270.1512  ,\n",
       "       19442.3535  , 12644.589   ,  2585.269   ,  6435.6237  ,\n",
       "        4234.927   , 16297.846   , 25992.82104 ,  2322.6218  ,\n",
       "       22462.04375 ,  4435.0942  ,  6082.405   ,  1712.227   ,\n",
       "        6198.7518  , 12913.9924  , 12044.342   ,  7046.7222  ,\n",
       "       24476.47851 , 47496.49445 ,  1728.897   , 48970.2476  ,\n",
       "       11944.59435 ,  3385.39915 ,  1629.8335  ,  1628.4709  ,\n",
       "        8410.04685 ,  2117.33885 ,  5972.378   , 41034.2214  ,\n",
       "       11538.421   , 11987.1682  , 11033.6617  , 39836.519   ,\n",
       "       11566.30055 ,  4133.64165 ,  6311.952   ,  2699.56835 ,\n",
       "        4536.259   ,  8823.98575 , 13635.6379  ,  6334.34355 ,\n",
       "       20009.63365 ,  8538.28845 , 43896.3763  , 27346.04207 ,\n",
       "       13224.05705 , 21098.55405 ,  5116.5004  ,  9414.92    ,\n",
       "        9386.1613  , 39125.33225 , 23288.9284  , 33732.6867  ,\n",
       "        6875.961   ,  9249.4952  ,  4564.19145 ,  1137.4697  ,\n",
       "        4462.7218  , 19673.33573 , 10702.6424  ,  7348.142   ,\n",
       "       11554.2236  , 21797.0004  ,  9715.841   ,  2730.10785 ,\n",
       "        2457.21115 ,  4751.07    , 37165.1638  ,  7173.35995 ,\n",
       "       39611.7577  ,  5003.853   , 14692.66935 ,  8688.85885 ,\n",
       "       10226.2842  , 22218.1149  , 13887.9685  , 17929.30337 ,\n",
       "       12224.35085 ,  8515.7587  ,  2200.83085 , 10231.4999  ,\n",
       "       10704.47    , 11881.9696  ,  8551.347   , 11657.7189  ,\n",
       "       23568.272   ,  2257.47525 ,  2643.2685  ,  6457.8434  ,\n",
       "        5377.4578  , 12222.8983  ,  9872.701   , 14474.675   ,\n",
       "       24603.04837 ,  7261.741   ,  6250.435   ,  2134.9015  ,\n",
       "        4889.9995  ,  5662.225   ,  4149.736   , 12629.1656  ,\n",
       "       10923.9332  , 12890.05765 ,  9869.8102  , 47896.79135 ,\n",
       "        4877.98105 , 11305.93455 ,  7633.7206  , 34617.84065 ,\n",
       "        4673.3922  , 18033.9679  , 35585.576   ,  3861.20965 ,\n",
       "       12523.6048  , 10594.50155 , 12741.16745 ,  1877.9294  ,\n",
       "       10713.644   , 22395.74424 ,  5469.0066  ,  6356.2707  ,\n",
       "       43753.33705 , 11763.0009  , 11833.7823  , 14256.1928  ,\n",
       "       11931.12525 ,  5488.262   , 12333.828   ,  7518.02535 ,\n",
       "        4185.0979  ,  2205.9808  ,  7626.993   , 25517.11363 ,\n",
       "       16069.08475 , 17352.6803  , 34779.615   , 14254.6082  ,\n",
       "        1131.5066  , 24671.66334 ,  3471.4096  , 13919.8229  ,\n",
       "        7243.8136  , 25656.57526 ,  9617.66245 ,  6837.3687  ,\n",
       "        9144.565   , 13844.506   , 24915.22085 ,  1242.816   ,\n",
       "       38245.59327 , 11674.13    , 14210.53595 ,  1639.5631  ,\n",
       "        3866.8552  ,  9875.6804  , 19214.70553 ,  3693.428   ,\n",
       "       10796.35025 , 19749.38338 ,  7160.094   ,  2352.96845 ,\n",
       "       19539.243   ,  1743.214   , 12957.118   ,  2198.18985 ,\n",
       "        7222.78625 , 39597.4072  , 20296.86345 , 17128.42608 ,\n",
       "       12495.29085 ,  7441.501   , 13616.3586  , 11945.1327  ,\n",
       "        1824.2854  ,  1632.56445 ,  4753.6368  , 10928.849   ,\n",
       "        6272.4772  , 38746.3551  ,  6282.235   , 17496.306   ,\n",
       "       24227.33724 , 46151.1245  ,  4667.60765 , 46718.16325 ,\n",
       "        6640.54485 ,  1625.43375 ,  5472.449   , 19361.9988  ,\n",
       "        5261.46945 , 33907.548   ,  1842.519   ,  7077.1894  ,\n",
       "       14119.62    , 27808.7251  ,  5385.3379  ,  3704.3545  ,\n",
       "       10959.33    , 20745.9891  , 14590.63205 ,  6610.1097  ,\n",
       "        2166.732   , 17748.5062  ,  7228.21565 , 16657.71745 ,\n",
       "       22493.65964 , 24520.264   ,  8240.5896  ,  1694.7964  ,\n",
       "        2150.469   , 12982.8747  ,  2137.6536  ,  6796.86325 ,\n",
       "       44202.6536  , 17626.23951 ,  4795.6568  ,  9877.6077  ,\n",
       "        7526.70645 , 34806.4677  ,  7935.29115 , 13405.3903  ,\n",
       "        4076.497   , 11454.0215  , 14283.4594  ,  2473.3341  ,\n",
       "        7419.4779  , 46889.2612  ,  1725.5523  ,  6474.013   ,\n",
       "        4746.344   ,  1837.2819  , 21771.3423  , 11576.13    ,\n",
       "        5976.8311  ,  1634.5734  , 17085.2676  , 41999.52    ,\n",
       "        8782.469   ,  6593.5083  , 11735.87905 ,  6555.07035 ,\n",
       "        9288.0267  ,  4266.1658  , 27218.43725 ,  4074.4537  ,\n",
       "       15820.699   ,  9500.57305 , 13770.0979  , 26926.5144  ,\n",
       "        1515.3449  ,  9748.9106  ,  9447.25035 ,  6289.7549  ,\n",
       "        7153.5539  ,  6933.24225 , 34439.8559  , 39556.4945  ,\n",
       "        3500.6123  ,  5458.04645 , 33475.81715 , 30942.1918  ,\n",
       "       14394.5579  , 14001.2867  , 48885.13561 ,  4931.647   ,\n",
       "        8871.1517  , 38998.546   ,  1141.4451  , 34838.873   ,\n",
       "       24869.8368  , 12404.8791  , 12244.531   ,  2497.0383  ,\n",
       "       24393.6224  , 20878.78443 ,  8520.026   , 11411.685   ,\n",
       "       28476.73499 , 19107.7796  , 41949.2441  , 40419.0191  ,\n",
       "       16420.49455 , 46255.1125  ,  1639.5631  , 21880.82    ,\n",
       "       13880.949   ,  9432.9253  ,  8539.671   ,  3558.62025 ,\n",
       "       10736.87075 , 16586.49771 , 24513.09126 ,  2217.46915 ,\n",
       "       12949.1554  ,  1149.3959  , 11253.421   ,  5148.5526  ,\n",
       "       20277.80751 , 13974.45555 ,  5989.52365 ,  1241.565   ,\n",
       "        6112.35295 , 10848.1343  , 11946.6259  ,  8825.086   ,\n",
       "        8569.8618  , 35491.64    , 32548.3405  , 29186.48236 ,\n",
       "       34303.1672  ,  1719.4363  ,  1633.0444  ,  7441.053   ,\n",
       "       38344.566   , 19496.71917 , 17904.52705 , 13451.122   ,\n",
       "       16577.7795  ,  5428.7277  ,  2103.08    ,  8125.7845  ,\n",
       "        2721.3208  , 48675.5177  , 21259.37795 , 10085.846   ,\n",
       "        3161.454   , 13143.86485 ,  6858.4796  , 15006.57945 ,\n",
       "       10450.552   , 11013.7119  , 19798.05455 , 18157.876   ,\n",
       "        9504.3103  ,  9264.797   ,  8930.93455 ,  6393.60345 ,\n",
       "       48517.56315 ,  4529.477   ,  2483.736   , 18310.742   ,\n",
       "        3180.5101  , 14418.2804  , 10115.00885 , 43943.8761  ,\n",
       "        1737.376   ,  3201.24515 ,  1708.92575 ,  5383.536   ,\n",
       "        8605.3615  , 31620.00106 , 12609.88702 , 41919.097   ,\n",
       "        2527.81865 , 13430.265   , 13981.85035 , 13204.28565 ,\n",
       "        8932.084   , 16884.924   , 45702.02235 , 36950.2567  ,\n",
       "       33750.2918  ,  5934.3798  , 37465.34375 ,  5709.1644  ,\n",
       "        7152.6714  ,  3238.4357  ,  1977.815   , 37484.4493  ,\n",
       "        6571.02435 ,  3877.30425 , 12129.61415 ,  1967.0227  ,\n",
       "        3046.062   , 12029.2867  , 15359.1045  ,  6985.50695 ,\n",
       "       38415.474   ,  5246.047   ,  2690.1138  ,  8671.19125 ,\n",
       "        4032.2407  ,  4646.759   ,  6196.448   ,  3736.4647  ,\n",
       "        3077.0955  , 13063.883   , 10594.2257  ,  5325.651   ,\n",
       "       21223.6758  ,  4466.6214  , 18804.7524  , 14358.36437 ,\n",
       "        5266.3656  ,  6313.759   , 43921.1837  ,  7337.748   ,\n",
       "        5966.8874  ,  6186.127   ,  8603.8234  , 10493.9458  ,\n",
       "       42111.6647  ,  3206.49135 ,  8083.9198  , 11938.25595 ,\n",
       "        2850.68375 ,  9866.30485 ,  3171.6149  ,  7345.7266  ,\n",
       "        3213.62205 ,  2585.85065 ,  8280.6227  ,  2404.7338  ,\n",
       "       30166.61817 , 39983.42595 , 10325.206   , 28923.13692 ,\n",
       "       46113.511   ,  2523.1695  ,  9722.7695  , 12235.8392  ,\n",
       "       11090.7178  , 11362.755   ,  3410.324   ,  5240.765   ,\n",
       "       10600.5483  ,  9991.03765 ,  7345.084   , 38792.6856  ,\n",
       "        6079.6715  ,  2719.27975 ,  4005.4225  , 23244.7902  ,\n",
       "       17663.1442  , 38282.7495  , 12231.6136  , 13822.803   ,\n",
       "        5438.7491  ,  3943.5954  , 21472.4788  , 21195.818   ,\n",
       "       11881.358   , 11365.952   , 18223.4512  , 44423.803   ,\n",
       "        2741.948   ,  8988.15875 ,  8444.474   , 23807.2406  ,\n",
       "        4686.3887  ,  9563.029   ,  3484.331   , 36307.7983  ,\n",
       "       18838.70366 ,  4837.5823  , 24106.91255 , 26125.67477 ,\n",
       "        1708.0014  ,  4337.7352  , 37742.5757  , 21659.9301  ,\n",
       "        1720.3537  , 11396.9002  , 21774.32215 , 10977.2063  ,\n",
       "        2196.4732  ,  7731.4271  ,  2566.4707  ,  3292.52985 ,\n",
       "       10825.2537  ,  7144.86265 , 14043.4767  , 10422.91665 ,\n",
       "        2494.022   ,  1242.26    , 13217.0945  ,  9290.1395  ,\n",
       "       12638.195   ,  9377.9047  , 40720.55105 ,  5649.715   ,\n",
       "        8765.249   , 42211.1382  ,  8347.1643  , 12094.478   ,\n",
       "       10436.096   , 12928.7911  , 10602.385   ,  5920.1041  ,\n",
       "       12648.7034  , 12475.3513  , 12797.20962 ,  2974.126   ,\n",
       "        6123.5688  ,  3577.999   , 13393.756   , 12146.971   ,\n",
       "        1534.3045  ,  7726.854   , 11015.1747  , 10065.413   ,\n",
       "       19350.3689  , 12124.9924  ,  4527.18295 ,  2362.22905 ,\n",
       "        9301.89355 ,  2897.3235  ,  2755.02095 , 10579.711   ,\n",
       "       13041.921   , 13129.60345 ,  9630.397   ,  3556.9223  ,\n",
       "        1981.5819  ,  1621.3402  , 13470.8044  , 39047.285   ,\n",
       "       13126.67745 , 36149.4835  ,  5267.81815 ,  2459.7201  ,\n",
       "        5012.471   ,  5272.1758  , 39722.7462  ,  3056.3881  ,\n",
       "        1744.465   , 47055.5321  , 25382.297   ,  5373.36425 ,\n",
       "       33471.97189 ,  8252.2843  ,  9800.8882  , 24873.3849  ,\n",
       "        5425.02335 ,  6664.68595 , 11264.541   , 26236.57997 ,\n",
       "        2136.88225 ,  4949.7587  ,  2534.39375 , 11856.4115  ,\n",
       "        4433.9159  ,  3761.292   ,  4747.0529  ,  2842.76075 ,\n",
       "       19515.5416  , 11879.10405 , 18218.16139 ,  7537.1639  ,\n",
       "       17560.37975 , 21677.28345 ,  4934.705   , 12815.44495 ,\n",
       "       12347.172   ,  8968.33    , 19144.57652 ,  1875.344   ,\n",
       "       12233.828   , 37133.8982  , 11345.519   ,  8302.53565 ,\n",
       "       30063.58055 ,  2102.2647  , 20149.3229  ,  8023.13545 ,\n",
       "       16776.30405 , 10043.249   ,  6406.4107  , 14235.072   ,\n",
       "        7358.17565 , 22331.5668  ,  2055.3249  ,  5028.1466  ,\n",
       "        1964.78    ,  5125.2157  , 10797.3362  ,  5979.731   ,\n",
       "        3392.9768  , 40932.4295  ,  3062.50825 ,  1633.9618  ,\n",
       "        5354.07465 , 36898.73308 ,  6402.29135 , 18767.7377  ,\n",
       "        6877.9801  ,  9880.068   , 11534.87265 , 43578.9394  ,\n",
       "       32734.1863  ,  4340.4409  ,  6849.026   ,  2020.5523  ,\n",
       "        7650.77375 , 34672.1472  ,  1137.011   ,  8835.26495 ,\n",
       "       20781.48892 ,  4449.462   ,  4239.89265 , 12557.6053  ,\n",
       "        8556.907   , 25333.33284 ,  5209.57885 ,  8277.523   ,\n",
       "       27941.28758 ,  5031.26955 , 11289.10925 ,  6414.178   ,\n",
       "        3732.6251  , 14382.70905 ,  3392.3652  ,  9541.69555 ,\n",
       "       32787.45859 ,  8944.1151  , 10118.424   ,  2480.9791  ,\n",
       "        8062.764   , 10601.63225 ,  8116.26885 ,  5227.98875 ,\n",
       "       11085.5868  , 34254.05335 , 40904.1995  ,  3279.86855 ,\n",
       "       11743.9341  ,  7954.517   , 13887.204   , 37607.5277  ,\n",
       "       17043.3414  ,  7209.4918  , 29330.98315 ,  7151.092   ,\n",
       "       10807.4863  ,  9361.3268  ,  7624.63    ,  4391.652   ,\n",
       "       10795.93733 , 48673.5588  ,  1635.73365 ,  9447.3824  ,\n",
       "        1631.6683  ,  4544.2348  , 47403.88    ,  2680.9493  ,\n",
       "        3490.5491  , 11070.535   , 19444.2658  ,  2710.82855 ,\n",
       "        5124.1887  , 14988.432   ,  5327.40025 ,  3172.018   ,\n",
       "        7162.0122  ,  1615.7667  , 11299.343   ,  3167.45585 ,\n",
       "        2155.6815  , 10106.13425 ,  4441.21315 ,  9957.7216  ,\n",
       "       42560.4304  ,  9644.2525  ,  5926.846   , 12925.886   ,\n",
       "        5693.4305  , 27037.9141  ,  8068.185   ,  3766.8838  ,\n",
       "       44260.7499  ,  5846.9176  ,  6652.5288  ,  3481.868   ,\n",
       "       10269.46    ,  2597.779   , 28468.91901 ,  7623.518   ,\n",
       "        7160.3303  ,  7443.64305 ,  4504.6624  , 11488.31695 ,\n",
       "        8232.6388  , 42760.5022  ,  4562.8421  , 13937.6665  ,\n",
       "        3875.7341  , 46200.9851  ,  4454.40265 , 36189.1017  ,\n",
       "       27375.90478 , 21978.6769  ,  2709.1119  ,  2128.43105 ,\n",
       "        2020.177   ,  1815.8759  ,  2138.0707  , 45710.20785 ,\n",
       "        5415.6612  ,  3277.161   ,  4571.41305 , 18806.14547 ,\n",
       "       18259.216   , 30259.99556 , 16085.1275  ,  8059.6791  ,\n",
       "       12646.207   ,  4738.2682  , 38709.176   , 18328.2381  ,\n",
       "        2775.19215 , 10965.446   , 46661.4424  , 22144.032   ,\n",
       "        1711.0268  , 24915.04626 ,  8269.044   , 13462.52    ,\n",
       "        4296.2712  ,  2219.4451  , 11353.2276  ,  4399.731   ,\n",
       "       13143.33665 ,  4438.2634  ,  9625.92    ,  9964.06    ,\n",
       "       42303.69215 ,  1704.5681  ,  2250.8352  , 28950.4692  ,\n",
       "        3591.48    ,  6710.1919  ,  7323.734819,  8413.46305 ,\n",
       "        2304.0022  , 17361.7661  , 10072.05505 , 11187.6567  ,\n",
       "       11884.04858 , 18608.262   , 10381.4787  ,  6551.7501  ,\n",
       "        7740.337   ,  2464.6188  ,  6600.20595 ,  6940.90985 ,\n",
       "        1972.95    , 11286.5387  ,  3645.0894  , 17081.08    ,\n",
       "       37829.7242  ,  1526.312   ,  9101.798   ,  6686.4313  ,\n",
       "        7640.3092  ,  7133.9025  ,  3378.91    ,  3353.284   ,\n",
       "       12950.0712  , 21595.38229 ,  7418.522   , 45863.205   ,\n",
       "       38711.      , 19521.9682  ,  3659.346   , 13047.33235 ,\n",
       "        4058.1161  ,  6184.2994  ,  1532.4697  ,  4040.55825 ,\n",
       "       18648.4217  ,  2801.2588  , 15170.069   ,  4151.0287  ,\n",
       "       12479.70895 , 10791.96    ,  1769.53165 ,  6203.90175 ,\n",
       "       11272.33139 , 16138.76205 , 40974.1649  , 36837.467   ,\n",
       "        7371.772   ,  1261.442   ,  5484.4673  , 12430.95335 ,\n",
       "        4561.1885  , 36910.60803 ,  1906.35825 , 39774.2763  ,\n",
       "       10560.4917  , 11150.78    ,  3353.4703  ,  6455.86265 ,\n",
       "        8527.532   ,  6059.173   ,  1621.8827  ,  8233.0975  ,\n",
       "       36124.5737  , 11658.11505 ,  6373.55735 ,  8116.68    ,\n",
       "        2104.1134  , 30184.9367  ,  4243.59005 ,  3756.6216  ,\n",
       "       37701.8768  , 12105.32    , 37079.372   ,  1832.094   ,\n",
       "       10806.839   , 15518.18025 ,  2632.992   ,  6753.038   ,\n",
       "       17178.6824  ,  7882.429475, 13831.1152  ,  5729.0053  ,\n",
       "       15019.76005 , 13019.16105 , 40182.246   ,  5138.2567  ,\n",
       "       48549.17835 , 14394.39815 , 21984.47061 ,  6238.298   ,\n",
       "        7045.499   , 14449.8544  ,  2789.0574  , 10407.08585 ,\n",
       "       15828.82173 , 23563.01618 , 18903.49141 ,  4766.022   ,\n",
       "        8457.818   , 11830.6072  , 20984.0936  ,  7789.635   ,\n",
       "       26140.3603  , 13415.0381  ,  6389.37785 ,  1917.3184  ,\n",
       "        7682.67    , 13747.87235 ,  6986.697   ,  9225.2564  ,\n",
       "        4349.462   , 11520.09985 ,  5910.944   ,  2727.3951  ,\n",
       "       11363.2832  , 26109.32905 , 27533.9129  , 19964.7463  ,\n",
       "       36197.699   ,  9910.35985 ,  8124.4084  , 21232.18226 ,\n",
       "       10577.087   ,  8827.2099  , 12323.936   , 18972.495   ,\n",
       "        4260.744   , 11436.73815 ,  3579.8287  ,  9283.562   ,\n",
       "        3757.8448  , 20630.28351 , 10264.4421  ,  4618.0799  ,\n",
       "        8615.3     ,  6748.5912  , 23241.47453 , 28287.89766 ,\n",
       "        4137.5227  ,  3443.064   , 16450.8947  , 32108.66282 ,\n",
       "       23306.547   , 29141.3603  , 36021.0112  ,  8334.5896  ,\n",
       "       13607.36875 , 11244.3769  , 48173.361   ,  4402.233   ,\n",
       "       13390.559   , 28340.18885 ,  6746.7425  , 12363.547   ,\n",
       "        2201.0971  ])"
      ]
     },
     "execution_count": 92,
     "metadata": {},
     "output_type": "execute_result"
    }
   ],
   "source": [
    "dtr.predict(x_train)"
   ]
  },
  {
   "cell_type": "code",
   "execution_count": 95,
   "id": "86843203",
   "metadata": {},
   "outputs": [
    {
     "data": {
      "text/plain": [
       "['dtrmodel.obj']"
      ]
     },
     "execution_count": 95,
     "metadata": {},
     "output_type": "execute_result"
    }
   ],
   "source": [
    "import joblib\n",
    "joblib.dump(dtr,'dtrmodel.obj')"
   ]
  },
  {
   "cell_type": "code",
   "execution_count": 96,
   "id": "db2f8f12",
   "metadata": {},
   "outputs": [],
   "source": [
    "testdtr=joblib.load('dtrmodel.obj')"
   ]
  },
  {
   "cell_type": "code",
   "execution_count": 97,
   "id": "ecd46fba",
   "metadata": {},
   "outputs": [
    {
     "data": {
      "text/plain": [
       "array([11150.78   ,  2322.6218 ,  1704.5681 ,  3490.5491 ,  1261.442  ,\n",
       "        5979.731  , 41034.2214 , 13937.6665 , 12982.8747 , 12950.0712 ,\n",
       "       47291.055  , 12646.207  , 22493.65964,  6250.435  , 24873.3849 ,\n",
       "       12333.828  ,  4673.3922 , 18804.7524 , 36189.1017 , 11987.1682 ,\n",
       "        5972.378  , 11150.78   , 39836.519  , 18806.14547,  2055.3249 ,\n",
       "        3279.86855, 46889.2612 ,  1704.5681 ,  1532.4697 , 10493.9458 ,\n",
       "        1261.442  ,  6082.405  , 11840.77505,  2643.2685 ,  5125.2157 ,\n",
       "       13047.33235, 18310.742  ,  2201.0971 ,  4137.5227 ,  2205.9808 ,\n",
       "        7640.3092 ,  2150.469  ,  7160.094  ,  9869.8102 , 11848.141  ,\n",
       "       10601.63225,  8062.764  ,  9386.1613 ,  5662.225  , 24915.04626,\n",
       "       10795.93733, 18806.14547, 32734.1863 , 11566.30055, 25517.11363,\n",
       "       11884.04858,  3943.5954 ,  8413.46305, 16069.08475,  1877.9294 ,\n",
       "       41919.097  ,  2459.7201 ,  9182.17   ,  5148.5526 , 19214.70553,\n",
       "        1728.897  ,  1137.011  , 41919.097  ,  1261.442  , 26125.67477,\n",
       "       14692.66935,  6123.5688 , 34254.05335, 10825.2537 ,  7209.4918 ,\n",
       "       38709.176  , 42211.1382 ,  8835.26495,  3972.9247 ,  9182.17   ,\n",
       "        9144.565  , 38709.176  , 11833.7823 ,  7348.142  ,  6770.1925 ,\n",
       "       11411.685  ,  3875.7341 , 39611.7577 ,  1137.011  ,  3591.48   ,\n",
       "       11015.1747 ,  4133.64165, 28923.13692,  3877.30425,  2137.6536 ,\n",
       "       14210.53595,  3943.5954 , 10704.47   ,  8671.19125, 16776.30405,\n",
       "       13204.28565, 11305.93455, 15359.1045 , 18903.49141, 18804.7524 ,\n",
       "        4795.6568 ,  6082.405  ,  1725.5523 ,  6238.298  , 11554.2236 ,\n",
       "       13919.8229 , 13462.52   , 28950.4692 , 22331.5668 , 21774.32215,\n",
       "       18648.4217 , 18903.49141,  4005.4225 ,  8428.0693 , 12495.29085,\n",
       "       37829.7242 , 18310.742  , 11356.6609 , 12949.1554 ,  3579.8287 ,\n",
       "        8302.53565,  1632.56445, 47462.894  , 16085.1275 ,  9722.7695 ,\n",
       "       27037.9141 ,  9225.2564 ,  7358.17565,  2128.43105, 18767.7377 ,\n",
       "       30166.61817,  3947.4131 ,  9991.03765,  4837.5823 , 47291.055  ,\n",
       "        9225.2564 ,  2045.68525,  4571.41305,  3579.8287 , 10923.9332 ,\n",
       "        3556.9223 ,  6571.02435,  6593.5083 , 12233.828  , 48885.13561,\n",
       "        2497.0383 , 15828.82173,  3180.5101 ,  9630.397  ,  1759.338  ,\n",
       "       13919.8229 ,  5152.134  , 13844.506  ,  1981.5819 ,  6985.50695,\n",
       "        9447.3824 , 16069.08475, 12609.88702,  4544.2348 ,  8116.26885,\n",
       "        5425.02335, 21984.47061, 19350.3689 ,  1261.442  ,  5354.07465,\n",
       "        5152.134  , 46718.16325,  1261.442  ,  1815.8759 , 37829.7242 ,\n",
       "        9301.89355,  2902.9065 , 18259.216  ,  4646.759  ,  6571.02435,\n",
       "        7201.70085,  1261.859  ,  3385.39915, 19350.3689 , 14001.2867 ,\n",
       "        1621.8827 ,  7162.0122 ,  1815.8759 ,  5976.8311 , 32548.3405 ,\n",
       "        9800.8882 ,  4433.9159 , 42560.4304 ,  8603.8234 ,  4185.0979 ,\n",
       "        3704.3545 ,  8233.0975 ,  2464.6188 ,  8252.2843 , 12129.61415,\n",
       "        9182.17   , 38344.566  ,  1639.5631 ,  5438.7491 , 23306.547  ,\n",
       "       11534.87265,  2055.3249 , 15019.76005,  8688.85885,  8277.523  ,\n",
       "       19040.876  , 10928.849  , 12609.88702,  2205.9808 ,  9563.029  ,\n",
       "        7640.3092 ,  4435.0942 ,  8334.5896 , 12741.16745, 36307.7983 ,\n",
       "       16138.76205,  1633.0444 ,  3994.1778 , 13880.949  , 13204.28565,\n",
       "       32734.1863 , 10791.96   , 37484.4493 ,  2457.502  ,  4137.5227 ,\n",
       "       10797.3362 , 11073.176  ,  9290.1395 , 47496.49445, 10602.385  ,\n",
       "       11554.2236 ,  6184.2994 ,  4544.2348 ,  7526.70645,  3877.30425,\n",
       "       19964.7463 ,  2459.7201 , 27346.04207, 12495.29085, 18838.70366,\n",
       "        6186.127  , 11879.10405,  2362.22905,  6858.4796 , 33471.97189,\n",
       "       13981.85035,  5920.1041 , 34779.615  , 12146.971  , 12404.8791 ,\n",
       "       13974.45555, 24520.264  ,  2902.9065 ,  5354.07465, 26926.5144 ,\n",
       "        7151.092  , 14235.072  ,  4076.497  ,  1621.8827 ,  9630.397  ,\n",
       "        7371.772  ,  4433.9159 ,  6186.127  ,  8280.6227 , 43921.1837 ,\n",
       "       32108.66282, 11286.5387 , 18157.876  ,  1131.5066 ,  1877.9294 ,\n",
       "        4529.477  , 44423.803  ,  6875.961  , 23568.272  ,  5261.46945,\n",
       "       41034.2214 , 18218.16139, 38709.176  ,  1615.7667 ,  2527.81865,\n",
       "        5246.047  ,  9630.397  , 11658.11505,  3366.6697 ,  5976.8311 ,\n",
       "        2459.7201 ,  9225.2564 , 21978.6769 , 13887.204  , 24869.8368 ,\n",
       "        8023.13545, 34779.615  , 14043.4767 ,  3353.284  ,  7935.29115,\n",
       "        9101.798  , 41034.2214 , 24227.33724,  8782.469  ,  3484.331  ,\n",
       "       10923.9332 , 15828.82173,  1704.5681 ,  1628.4709 , 10797.3362 ,\n",
       "       11286.5387 ,  5354.07465,  4151.0287 ,  9182.17   ,  3176.8159 ,\n",
       "       22462.04375, 26140.3603 , 18806.14547, 47403.88   ,  5377.4578 ,\n",
       "        3046.062  ,  2709.1119 ,  4883.866  , 30166.61817, 47055.5321 ,\n",
       "        4529.477  , 18223.4512 , 36898.73308])"
      ]
     },
     "execution_count": 97,
     "metadata": {},
     "output_type": "execute_result"
    }
   ],
   "source": [
    "testdtr.predict(x_test)"
   ]
  },
  {
   "cell_type": "code",
   "execution_count": null,
   "id": "f329395d",
   "metadata": {},
   "outputs": [],
   "source": []
  },
  {
   "cell_type": "code",
   "execution_count": null,
   "id": "43e89df5",
   "metadata": {},
   "outputs": [],
   "source": []
  },
  {
   "cell_type": "code",
   "execution_count": null,
   "id": "1be2a71c",
   "metadata": {},
   "outputs": [],
   "source": []
  },
  {
   "cell_type": "code",
   "execution_count": null,
   "id": "a1d79d38",
   "metadata": {},
   "outputs": [],
   "source": []
  },
  {
   "cell_type": "code",
   "execution_count": null,
   "id": "f22cd08f",
   "metadata": {},
   "outputs": [],
   "source": []
  },
  {
   "cell_type": "code",
   "execution_count": null,
   "id": "f1c6e275",
   "metadata": {},
   "outputs": [],
   "source": []
  },
  {
   "cell_type": "code",
   "execution_count": null,
   "id": "56e5a06f",
   "metadata": {},
   "outputs": [],
   "source": []
  },
  {
   "cell_type": "code",
   "execution_count": null,
   "id": "9d053522",
   "metadata": {},
   "outputs": [],
   "source": []
  },
  {
   "cell_type": "code",
   "execution_count": null,
   "id": "4fe60b08",
   "metadata": {},
   "outputs": [],
   "source": []
  },
  {
   "cell_type": "code",
   "execution_count": null,
   "id": "62595b66",
   "metadata": {},
   "outputs": [],
   "source": []
  },
  {
   "cell_type": "code",
   "execution_count": null,
   "id": "8cc78f9f",
   "metadata": {},
   "outputs": [],
   "source": []
  },
  {
   "cell_type": "code",
   "execution_count": null,
   "id": "7c61d282",
   "metadata": {},
   "outputs": [],
   "source": []
  },
  {
   "cell_type": "code",
   "execution_count": null,
   "id": "533e3383",
   "metadata": {},
   "outputs": [],
   "source": []
  },
  {
   "cell_type": "code",
   "execution_count": null,
   "id": "22c6dac8",
   "metadata": {},
   "outputs": [],
   "source": []
  },
  {
   "cell_type": "code",
   "execution_count": null,
   "id": "6b16e032",
   "metadata": {},
   "outputs": [],
   "source": []
  },
  {
   "cell_type": "code",
   "execution_count": null,
   "id": "08b484e2",
   "metadata": {},
   "outputs": [],
   "source": []
  }
 ],
 "metadata": {
  "kernelspec": {
   "display_name": "Python 3 (ipykernel)",
   "language": "python",
   "name": "python3"
  },
  "language_info": {
   "codemirror_mode": {
    "name": "ipython",
    "version": 3
   },
   "file_extension": ".py",
   "mimetype": "text/x-python",
   "name": "python",
   "nbconvert_exporter": "python",
   "pygments_lexer": "ipython3",
   "version": "3.10.9"
  }
 },
 "nbformat": 4,
 "nbformat_minor": 5
}
